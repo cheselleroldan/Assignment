{
  "cells": [
    {
      "cell_type": "markdown",
      "metadata": {
        "id": "gJXW_DgiSebM"
      },
      "source": [
        "# LangGraph and LangSmith - Agentic RAG Powered by LangChain\n",
        "\n",
        "In the following notebook we'll complete the following tasks:\n",
        "\n",
        "- 🤝 Breakout Room #1:\n",
        "  1. Install required libraries\n",
        "  2. Set Environment Variables\n",
        "  3. Creating our Tool Belt\n",
        "  4. Creating Our State\n",
        "  5. Creating and Compiling A Graph!\n",
        "\n",
        "  - 🤝 Breakout Room #2:\n",
        "  1. Evaluating the LangGraph Application with LangSmith\n",
        "  2. Adding Helpfulness Check and \"Loop\" Limits\n",
        "  3. LangGraph for the \"Patterns\" of GenAI"
      ]
    },
    {
      "cell_type": "markdown",
      "metadata": {
        "id": "djQ3nRAgoF67"
      },
      "source": [
        "# 🤝 Breakout Room #1"
      ]
    },
    {
      "cell_type": "markdown",
      "metadata": {
        "id": "e7pQDUhUnIo8"
      },
      "source": [
        "## Part 1: LangGraph - Building Cyclic Applications with LangChain\n",
        "\n",
        "LangGraph is a tool that leverages LangChain Expression Language to build coordinated multi-actor and stateful applications that includes cyclic behaviour.\n",
        "\n",
        "### Why Cycles?\n",
        "\n",
        "In essence, we can think of a cycle in our graph as a more robust and customizable loop. It allows us to keep our application agent-forward while still giving the powerful functionality of traditional loops.\n",
        "\n",
        "Due to the inclusion of cycles over loops, we can also compose rather complex flows through our graph in a much more readable and natural fashion. Effectively allowing us to recreate application flowcharts in code in an almost 1-to-1 fashion.\n",
        "\n",
        "### Why LangGraph?\n",
        "\n",
        "Beyond the agent-forward approach - we can easily compose and combine traditional \"DAG\" (directed acyclic graph) chains with powerful cyclic behaviour due to the tight integration with LCEL. This means it's a natural extension to LangChain's core offerings!"
      ]
    },
    {
      "cell_type": "markdown",
      "metadata": {
        "id": "3_fLDElOVoop"
      },
      "source": [
        "## Task 1:  Dependencies\n",
        "\n",
        "We'll first install all our required libraries."
      ]
    },
    {
      "cell_type": "code",
      "execution_count": 2,
      "metadata": {
        "id": "KaVwN269EttM"
      },
      "outputs": [
        {
          "name": "stdout",
          "output_type": "stream",
          "text": [
            "Requirement already satisfied: langchain in /Users/cheselle/anaconda3/envs/llmops-course/lib/python3.11/site-packages (0.2.15)\n",
            "Requirement already satisfied: langchain_openai in /Users/cheselle/anaconda3/envs/llmops-course/lib/python3.11/site-packages (0.1.23)\n",
            "Requirement already satisfied: langchain-community in /Users/cheselle/anaconda3/envs/llmops-course/lib/python3.11/site-packages (0.2.13)\n",
            "Requirement already satisfied: langgraph in /Users/cheselle/anaconda3/envs/llmops-course/lib/python3.11/site-packages (0.2.14)\n",
            "Requirement already satisfied: arxiv in /Users/cheselle/anaconda3/envs/llmops-course/lib/python3.11/site-packages (2.1.3)\n",
            "Requirement already satisfied: duckduckgo_search==5.3.1b1 in /Users/cheselle/anaconda3/envs/llmops-course/lib/python3.11/site-packages (5.3.1b1)\n",
            "Requirement already satisfied: click>=8.1.7 in /Users/cheselle/anaconda3/envs/llmops-course/lib/python3.11/site-packages (from duckduckgo_search==5.3.1b1) (8.1.7)\n",
            "Requirement already satisfied: httpx>=0.27.0 in /Users/cheselle/anaconda3/envs/llmops-course/lib/python3.11/site-packages (from httpx[brotli,http2,socks]>=0.27.0->duckduckgo_search==5.3.1b1) (0.27.2)\n",
            "Requirement already satisfied: PyYAML>=5.3 in /Users/cheselle/anaconda3/envs/llmops-course/lib/python3.11/site-packages (from langchain) (6.0.1)\n",
            "Requirement already satisfied: SQLAlchemy<3,>=1.4 in /Users/cheselle/anaconda3/envs/llmops-course/lib/python3.11/site-packages (from langchain) (2.0.32)\n",
            "Requirement already satisfied: aiohttp<4.0.0,>=3.8.3 in /Users/cheselle/anaconda3/envs/llmops-course/lib/python3.11/site-packages (from langchain) (3.10.1)\n",
            "Requirement already satisfied: langchain-core<0.3.0,>=0.2.35 in /Users/cheselle/anaconda3/envs/llmops-course/lib/python3.11/site-packages (from langchain) (0.2.35)\n",
            "Requirement already satisfied: langchain-text-splitters<0.3.0,>=0.2.0 in /Users/cheselle/anaconda3/envs/llmops-course/lib/python3.11/site-packages (from langchain) (0.2.2)\n",
            "Requirement already satisfied: langsmith<0.2.0,>=0.1.17 in /Users/cheselle/anaconda3/envs/llmops-course/lib/python3.11/site-packages (from langchain) (0.1.104)\n",
            "Requirement already satisfied: numpy<2,>=1 in /Users/cheselle/anaconda3/envs/llmops-course/lib/python3.11/site-packages (from langchain) (1.23.5)\n",
            "Requirement already satisfied: pydantic<3,>=1 in /Users/cheselle/anaconda3/envs/llmops-course/lib/python3.11/site-packages (from langchain) (2.8.2)\n",
            "Requirement already satisfied: requests<3,>=2 in /Users/cheselle/anaconda3/envs/llmops-course/lib/python3.11/site-packages (from langchain) (2.32.3)\n",
            "Requirement already satisfied: tenacity!=8.4.0,<9.0.0,>=8.1.0 in /Users/cheselle/anaconda3/envs/llmops-course/lib/python3.11/site-packages (from langchain) (8.5.0)\n",
            "Requirement already satisfied: openai<2.0.0,>=1.40.0 in /Users/cheselle/anaconda3/envs/llmops-course/lib/python3.11/site-packages (from langchain_openai) (1.42.0)\n",
            "Requirement already satisfied: tiktoken<1,>=0.7 in /Users/cheselle/anaconda3/envs/llmops-course/lib/python3.11/site-packages (from langchain_openai) (0.7.0)\n",
            "Requirement already satisfied: dataclasses-json<0.7,>=0.5.7 in /Users/cheselle/anaconda3/envs/llmops-course/lib/python3.11/site-packages (from langchain-community) (0.5.14)\n",
            "Requirement already satisfied: langgraph-checkpoint<2.0.0,>=1.0.2 in /Users/cheselle/anaconda3/envs/llmops-course/lib/python3.11/site-packages (from langgraph) (1.0.6)\n",
            "Requirement already satisfied: feedparser~=6.0.10 in /Users/cheselle/anaconda3/envs/llmops-course/lib/python3.11/site-packages (from arxiv) (6.0.11)\n",
            "Requirement already satisfied: aiohappyeyeballs>=2.3.0 in /Users/cheselle/anaconda3/envs/llmops-course/lib/python3.11/site-packages (from aiohttp<4.0.0,>=3.8.3->langchain) (2.3.4)\n",
            "Requirement already satisfied: aiosignal>=1.1.2 in /Users/cheselle/anaconda3/envs/llmops-course/lib/python3.11/site-packages (from aiohttp<4.0.0,>=3.8.3->langchain) (1.3.1)\n",
            "Requirement already satisfied: attrs>=17.3.0 in /Users/cheselle/anaconda3/envs/llmops-course/lib/python3.11/site-packages (from aiohttp<4.0.0,>=3.8.3->langchain) (23.2.0)\n",
            "Requirement already satisfied: frozenlist>=1.1.1 in /Users/cheselle/anaconda3/envs/llmops-course/lib/python3.11/site-packages (from aiohttp<4.0.0,>=3.8.3->langchain) (1.4.1)\n",
            "Requirement already satisfied: multidict<7.0,>=4.5 in /Users/cheselle/anaconda3/envs/llmops-course/lib/python3.11/site-packages (from aiohttp<4.0.0,>=3.8.3->langchain) (6.0.5)\n",
            "Requirement already satisfied: yarl<2.0,>=1.0 in /Users/cheselle/anaconda3/envs/llmops-course/lib/python3.11/site-packages (from aiohttp<4.0.0,>=3.8.3->langchain) (1.9.4)\n",
            "Requirement already satisfied: marshmallow<4.0.0,>=3.18.0 in /Users/cheselle/anaconda3/envs/llmops-course/lib/python3.11/site-packages (from dataclasses-json<0.7,>=0.5.7->langchain-community) (3.21.3)\n",
            "Requirement already satisfied: typing-inspect<1,>=0.4.0 in /Users/cheselle/anaconda3/envs/llmops-course/lib/python3.11/site-packages (from dataclasses-json<0.7,>=0.5.7->langchain-community) (0.9.0)\n",
            "Requirement already satisfied: sgmllib3k in /Users/cheselle/anaconda3/envs/llmops-course/lib/python3.11/site-packages (from feedparser~=6.0.10->arxiv) (1.0.0)\n",
            "Requirement already satisfied: anyio in /Users/cheselle/anaconda3/envs/llmops-course/lib/python3.11/site-packages (from httpx>=0.27.0->httpx[brotli,http2,socks]>=0.27.0->duckduckgo_search==5.3.1b1) (3.7.1)\n",
            "Requirement already satisfied: certifi in /Users/cheselle/anaconda3/envs/llmops-course/lib/python3.11/site-packages (from httpx>=0.27.0->httpx[brotli,http2,socks]>=0.27.0->duckduckgo_search==5.3.1b1) (2024.7.4)\n",
            "Requirement already satisfied: httpcore==1.* in /Users/cheselle/anaconda3/envs/llmops-course/lib/python3.11/site-packages (from httpx>=0.27.0->httpx[brotli,http2,socks]>=0.27.0->duckduckgo_search==5.3.1b1) (1.0.5)\n",
            "Requirement already satisfied: idna in /Users/cheselle/anaconda3/envs/llmops-course/lib/python3.11/site-packages (from httpx>=0.27.0->httpx[brotli,http2,socks]>=0.27.0->duckduckgo_search==5.3.1b1) (3.7)\n",
            "Requirement already satisfied: sniffio in /Users/cheselle/anaconda3/envs/llmops-course/lib/python3.11/site-packages (from httpx>=0.27.0->httpx[brotli,http2,socks]>=0.27.0->duckduckgo_search==5.3.1b1) (1.3.1)\n",
            "Requirement already satisfied: h11<0.15,>=0.13 in /Users/cheselle/anaconda3/envs/llmops-course/lib/python3.11/site-packages (from httpcore==1.*->httpx>=0.27.0->httpx[brotli,http2,socks]>=0.27.0->duckduckgo_search==5.3.1b1) (0.14.0)\n",
            "Requirement already satisfied: brotli in /Users/cheselle/anaconda3/envs/llmops-course/lib/python3.11/site-packages (from httpx[brotli,http2,socks]>=0.27.0->duckduckgo_search==5.3.1b1) (1.1.0)\n",
            "Requirement already satisfied: h2<5,>=3 in /Users/cheselle/anaconda3/envs/llmops-course/lib/python3.11/site-packages (from httpx[brotli,http2,socks]>=0.27.0->duckduckgo_search==5.3.1b1) (4.1.0)\n",
            "Requirement already satisfied: socksio==1.* in /Users/cheselle/anaconda3/envs/llmops-course/lib/python3.11/site-packages (from httpx[brotli,http2,socks]>=0.27.0->duckduckgo_search==5.3.1b1) (1.0.0)\n",
            "Requirement already satisfied: jsonpatch<2.0,>=1.33 in /Users/cheselle/anaconda3/envs/llmops-course/lib/python3.11/site-packages (from langchain-core<0.3.0,>=0.2.35->langchain) (1.33)\n",
            "Requirement already satisfied: packaging<25,>=23.2 in /Users/cheselle/anaconda3/envs/llmops-course/lib/python3.11/site-packages (from langchain-core<0.3.0,>=0.2.35->langchain) (23.2)\n",
            "Requirement already satisfied: typing-extensions>=4.7 in /Users/cheselle/anaconda3/envs/llmops-course/lib/python3.11/site-packages (from langchain-core<0.3.0,>=0.2.35->langchain) (4.12.2)\n",
            "Requirement already satisfied: orjson<4.0.0,>=3.9.14 in /Users/cheselle/anaconda3/envs/llmops-course/lib/python3.11/site-packages (from langsmith<0.2.0,>=0.1.17->langchain) (3.10.7)\n",
            "Requirement already satisfied: distro<2,>=1.7.0 in /Users/cheselle/anaconda3/envs/llmops-course/lib/python3.11/site-packages (from openai<2.0.0,>=1.40.0->langchain_openai) (1.9.0)\n",
            "Requirement already satisfied: jiter<1,>=0.4.0 in /Users/cheselle/anaconda3/envs/llmops-course/lib/python3.11/site-packages (from openai<2.0.0,>=1.40.0->langchain_openai) (0.5.0)\n",
            "Requirement already satisfied: tqdm>4 in /Users/cheselle/anaconda3/envs/llmops-course/lib/python3.11/site-packages (from openai<2.0.0,>=1.40.0->langchain_openai) (4.66.4)\n",
            "Requirement already satisfied: annotated-types>=0.4.0 in /Users/cheselle/anaconda3/envs/llmops-course/lib/python3.11/site-packages (from pydantic<3,>=1->langchain) (0.7.0)\n",
            "Requirement already satisfied: pydantic-core==2.20.1 in /Users/cheselle/anaconda3/envs/llmops-course/lib/python3.11/site-packages (from pydantic<3,>=1->langchain) (2.20.1)\n",
            "Requirement already satisfied: charset-normalizer<4,>=2 in /Users/cheselle/anaconda3/envs/llmops-course/lib/python3.11/site-packages (from requests<3,>=2->langchain) (3.3.2)\n",
            "Requirement already satisfied: urllib3<3,>=1.21.1 in /Users/cheselle/anaconda3/envs/llmops-course/lib/python3.11/site-packages (from requests<3,>=2->langchain) (2.2.2)\n",
            "Requirement already satisfied: regex>=2022.1.18 in /Users/cheselle/anaconda3/envs/llmops-course/lib/python3.11/site-packages (from tiktoken<1,>=0.7->langchain_openai) (2024.7.24)\n",
            "Requirement already satisfied: hyperframe<7,>=6.0 in /Users/cheselle/anaconda3/envs/llmops-course/lib/python3.11/site-packages (from h2<5,>=3->httpx[brotli,http2,socks]>=0.27.0->duckduckgo_search==5.3.1b1) (6.0.1)\n",
            "Requirement already satisfied: hpack<5,>=4.0 in /Users/cheselle/anaconda3/envs/llmops-course/lib/python3.11/site-packages (from h2<5,>=3->httpx[brotli,http2,socks]>=0.27.0->duckduckgo_search==5.3.1b1) (4.0.0)\n",
            "Requirement already satisfied: jsonpointer>=1.9 in /Users/cheselle/anaconda3/envs/llmops-course/lib/python3.11/site-packages (from jsonpatch<2.0,>=1.33->langchain-core<0.3.0,>=0.2.35->langchain) (3.0.0)\n",
            "Requirement already satisfied: mypy-extensions>=0.3.0 in /Users/cheselle/anaconda3/envs/llmops-course/lib/python3.11/site-packages (from typing-inspect<1,>=0.4.0->dataclasses-json<0.7,>=0.5.7->langchain-community) (1.0.0)\n"
          ]
        }
      ],
      "source": [
        "!pip install langchain langchain_openai langchain-community langgraph arxiv duckduckgo_search==5.3.1b1"
      ]
    },
    {
      "cell_type": "markdown",
      "metadata": {
        "id": "wujPjGJuoPwg"
      },
      "source": [
        "## Task 2: Environment Variables\n",
        "\n",
        "We'll want to set both our OpenAI API key and our LangSmith environment variables."
      ]
    },
    {
      "cell_type": "code",
      "execution_count": 4,
      "metadata": {
        "colab": {
          "base_uri": "https://localhost:8080/"
        },
        "id": "Jdh8CoVWHRvs",
        "outputId": "42b2ba5e-11ae-4f4d-e68e-77607bb794ad"
      },
      "outputs": [],
      "source": [
        "import os\n",
        "import getpass\n",
        "\n",
        "os.environ[\"OPENAI_API_KEY\"] = getpass.getpass(\"OpenAI API Key:\")"
      ]
    },
    {
      "cell_type": "code",
      "execution_count": 5,
      "metadata": {
        "colab": {
          "base_uri": "https://localhost:8080/"
        },
        "id": "Nv0glIDyHmRt",
        "outputId": "30aa2260-50f1-4abf-b305-eed0ee1b9008"
      },
      "outputs": [],
      "source": [
        "from uuid import uuid4\n",
        "\n",
        "os.environ[\"LANGCHAIN_TRACING_V2\"] = \"true\"\n",
        "os.environ[\"LANGCHAIN_PROJECT\"] = f\"AIE4 - LangGraph - {uuid4().hex[0:8]}\"\n",
        "os.environ[\"LANGCHAIN_API_KEY\"] = getpass.getpass(\"LangSmith API Key: \")"
      ]
    },
    {
      "cell_type": "markdown",
      "metadata": {
        "id": "sBRyQmEAVzua"
      },
      "source": [
        "## Task 3: Creating our Tool Belt\n",
        "\n",
        "As is usually the case, we'll want to equip our agent with a toolbelt to help answer questions and add external knowledge.\n",
        "\n",
        "There's a tonne of tools in the [LangChain Community Repo](https://github.com/langchain-ai/langchain/tree/master/libs/community/langchain_community/tools) but we'll stick to a couple just so we can observe the cyclic nature of LangGraph in action!\n",
        "\n",
        "We'll leverage:\n",
        "\n",
        "- [Duck Duck Go Web Search](https://github.com/langchain-ai/langchain/tree/master/libs/community/langchain_community/tools/ddg_search)\n",
        "- [Arxiv](https://github.com/langchain-ai/langchain/tree/master/libs/community/langchain_community/tools/arxiv)"
      ]
    },
    {
      "cell_type": "markdown",
      "metadata": {
        "id": "2k6n_Dob2F46"
      },
      "source": [
        "####🏗️ Activity #1:\n",
        "\n",
        "Please add the tools to use into our toolbelt.\n",
        "\n",
        "> NOTE: Each tool in our toolbelt should be a method."
      ]
    },
    {
      "cell_type": "markdown",
      "metadata": {},
      "source": [
        "####  🟢  Activity  #1:"
      ]
    },
    {
      "cell_type": "code",
      "execution_count": 40,
      "metadata": {
        "id": "lAxaSvlfIeOg"
      },
      "outputs": [],
      "source": [
        "from langchain_community.tools.ddg_search import DuckDuckGoSearchRun\n",
        "from langchain_community.tools.arxiv.tool import ArxivQueryRun\n",
        "\n",
        "#list of tools, don't forget to include() for method call\n",
        "tool_belt = [\n",
        "    DuckDuckGoSearchRun(),\n",
        "    ArxivQueryRun()\n",
        "]"
      ]
    },
    {
      "cell_type": "markdown",
      "metadata": {
        "id": "VI-C669ZYVI5"
      },
      "source": [
        "### Model\n",
        "\n",
        "Now we can set-up our model! We'll leverage the familiar OpenAI model suite for this example - but it's not *necessary* to use with LangGraph. LangGraph supports all models - though you might not find success with smaller models - as such, they recommend you stick with:\n",
        "\n",
        "- OpenAI's GPT-3.5 and GPT-4\n",
        "- Anthropic's Claude\n",
        "- Google's Gemini\n",
        "\n",
        "> NOTE: Because we're leveraging the OpenAI function calling API - we'll need to use OpenAI *for this specific example* (or any other service that exposes an OpenAI-style function calling API."
      ]
    },
    {
      "cell_type": "code",
      "execution_count": 8,
      "metadata": {
        "id": "QkNS8rNZJs4z"
      },
      "outputs": [],
      "source": [
        "from langchain_openai import ChatOpenAI\n",
        "\n",
        "model = ChatOpenAI(model=\"gpt-4o\", temperature=0)"
      ]
    },
    {
      "cell_type": "markdown",
      "metadata": {
        "id": "Ugkj3GzuZpQv"
      },
      "source": [
        "Now that we have our model set-up, let's \"put on the tool belt\", which is to say: We'll bind our LangChain formatted tools to the model in an OpenAI function calling format."
      ]
    },
    {
      "cell_type": "code",
      "execution_count": 9,
      "metadata": {
        "id": "4OdMqFafZ_0V"
      },
      "outputs": [],
      "source": [
        "#bind gpt-4o to langchain's tool belt, allowing gpt-4o to leverage tool_belt when processing input\n",
        "model = model.bind_tools(tool_belt)"
      ]
    },
    {
      "cell_type": "markdown",
      "metadata": {
        "id": "ERzuGo6W18Lr"
      },
      "source": [
        "#### ❓ Question #1:\n",
        "\n",
        "How does the model determine which tool to use?"
      ]
    },
    {
      "cell_type": "markdown",
      "metadata": {},
      "source": [
        "#### 🟢 Answer #1:\n",
        "The model determines which tool to use through tool schemas that described what the tool does and its prerequisite arguments. Basically, the model goes through all the tools within its toolbelt, looking for an appropriate tool based on their description to process an input it received. \n",
        "\n",
        "Tool schemas are passed through function typehints, function docstrings, or by setting a method's description parameter. \n",
        "\n",
        "It should be noted that chains lets the developer create a pre-defined sequence of tool usage and agents let the model use tools in a loop. \n"
      ]
    },
    {
      "cell_type": "markdown",
      "metadata": {
        "id": "_296Ub96Z_H8"
      },
      "source": [
        "## Task 4: Putting the State in Stateful\n",
        "\n",
        "Earlier we used this phrasing:\n",
        "\n",
        "`coordinated multi-actor and stateful applications`\n",
        "\n",
        "So what does that \"stateful\" mean?\n",
        "\n",
        "To put it simply - we want to have some kind of object which we can pass around our application that holds information about what the current situation (state) is. Since our system will be constructed of many parts moving in a coordinated fashion - we want to be able to ensure we have some commonly understood idea of that state.\n",
        "\n",
        "LangGraph leverages a `StatefulGraph` which uses an `AgentState` object to pass information between the various nodes of the graph.\n",
        "\n",
        "There are more options than what we'll see below - but this `AgentState` object is one that is stored in a `TypedDict` with the key `messages` and the value is a `Sequence` of `BaseMessages` that will be appended to whenever the state changes.\n",
        "\n",
        "Let's think about a simple example to help understand exactly what this means (we'll simplify a great deal to try and clearly communicate what state is doing):\n",
        "\n",
        "1. We initialize our state object:\n",
        "  - `{\"messages\" : []}`\n",
        "2. Our user submits a query to our application.\n",
        "  - New State: `HumanMessage(#1)`\n",
        "  - `{\"messages\" : [HumanMessage(#1)}`\n",
        "3. We pass our state object to an Agent node which is able to read the current state. It will use the last `HumanMessage` as input. It gets some kind of output which it will add to the state.\n",
        "  - New State: `AgentMessage(#1, additional_kwargs {\"function_call\" : \"WebSearchTool\"})`\n",
        "  - `{\"messages\" : [HumanMessage(#1), AgentMessage(#1, ...)]}`\n",
        "4. We pass our state object to a \"conditional node\" (more on this later) which reads the last state to determine if we need to use a tool - which it can determine properly because of our provided object!"
      ]
    },
    {
      "cell_type": "code",
      "execution_count": 10,
      "metadata": {
        "id": "mxL9b_NZKUdL"
      },
      "outputs": [],
      "source": [
        "from typing import TypedDict, Annotated\n",
        "from langgraph.graph.message import add_messages\n",
        "import operator\n",
        "from langchain_core.messages import BaseMessage\n",
        "\n",
        "# Creates a class that takes a list of messages and transformed by add_messages\n",
        "# Useful for creating smart agents that handles messages in an organized way\n",
        "class AgentState(TypedDict):\n",
        "  messages: Annotated[list, add_messages]"
      ]
    },
    {
      "cell_type": "markdown",
      "metadata": {
        "id": "vWsMhfO9grLu"
      },
      "source": [
        "## Task 5: It's Graphing Time!\n",
        "\n",
        "Now that we have state, and we have tools, and we have an LLM - we can finally start making our graph!\n",
        "\n",
        "Let's take a second to refresh ourselves about what a graph is in this context.\n",
        "\n",
        "Graphs, also called networks in some circles, are a collection of connected objects.\n",
        "\n",
        "The objects in question are typically called nodes, or vertices, and the connections are called edges.\n",
        "\n",
        "Let's look at a simple graph.\n",
        "\n",
        "![image](https://i.imgur.com/2NFLnIc.png)\n",
        "\n",
        "Here, we're using the coloured circles to represent the nodes and the yellow lines to represent the edges. In this case, we're looking at a fully connected graph - where each node is connected by an edge to each other node.\n",
        "\n",
        "If we were to think about nodes in the context of LangGraph - we would think of a function, or an LCEL runnable.\n",
        "\n",
        "If we were to think about edges in the context of LangGraph - we might think of them as \"paths to take\" or \"where to pass our state object next\".\n",
        "\n",
        "Let's create some nodes and expand on our diagram.\n",
        "\n",
        "> NOTE: Due to the tight integration with LCEL - we can comfortably create our nodes in an async fashion!"
      ]
    },
    {
      "cell_type": "code",
      "execution_count": 11,
      "metadata": {
        "id": "91flJWtZLUrl"
      },
      "outputs": [],
      "source": [
        "from langgraph.prebuilt import ToolNode\n",
        "\n",
        "# A node that leverages gpt-4o and langchain's toolbelt to return a response based on state message \n",
        "def call_model(state):\n",
        "  messages = state[\"messages\"]\n",
        "  response = model.invoke(messages)\n",
        "  return {\"messages\" : [response]}\n",
        "\n",
        "# A node that calls the initial tools before being binded to gpt-4o\n",
        "tool_node = ToolNode(tool_belt)"
      ]
    },
    {
      "cell_type": "markdown",
      "metadata": {
        "id": "2bwR7MgWj3Wg"
      },
      "source": [
        "Now we have two total nodes. We have:\n",
        "\n",
        "- `call_model` is a node that will...well...call the model\n",
        "- `tool_node` is a node which can call a tool\n",
        "\n",
        "Let's start adding nodes! We'll update our diagram along the way to keep track of what this looks like!\n"
      ]
    },
    {
      "cell_type": "code",
      "execution_count": 12,
      "metadata": {
        "id": "_vF4_lgtmQNo"
      },
      "outputs": [],
      "source": [
        "from langgraph.graph import StateGraph, END\n",
        "# Stategraph is a flowchart blueprint and END is where the flowchart...well...ends\n",
        "\n",
        "# The flowchart will work with AgentState\n",
        "uncompiled_graph = StateGraph(AgentState)\n",
        "\n",
        "# Added flowchart step named 'agent' and connect it to call_model function\n",
        "# When it reaches this step, it will run the call_model function\n",
        "\n",
        "uncompiled_graph.add_node(\"agent\", call_model)\n",
        "\n",
        "#A dded flowchart step named 'action' and connect it to the tool_node variable\n",
        "# When it reaches this step, it will run the tool_node variable\n",
        "uncompiled_graph.add_node(\"action\", tool_node)"
      ]
    },
    {
      "cell_type": "markdown",
      "metadata": {
        "id": "b8CjRlbVmRpW"
      },
      "source": [
        "Let's look at what we have so far:\n",
        "\n",
        "![image](https://i.imgur.com/md7inqG.png)"
      ]
    },
    {
      "cell_type": "markdown",
      "metadata": {
        "id": "uaXHpPeSnOWC"
      },
      "source": [
        "Next, we'll add our entrypoint. All our entrypoint does is indicate which node is called first."
      ]
    },
    {
      "cell_type": "code",
      "execution_count": 13,
      "metadata": {
        "id": "YGCbaYqRnmiw"
      },
      "outputs": [],
      "source": [
        "# Sets the graph starting point. In this case, the graph will start with the agent node\n",
        "uncompiled_graph.set_entry_point(\"agent\")"
      ]
    },
    {
      "cell_type": "markdown",
      "metadata": {
        "id": "BUsfGoSpoF9U"
      },
      "source": [
        "![image](https://i.imgur.com/wNixpJe.png)"
      ]
    },
    {
      "cell_type": "markdown",
      "metadata": {
        "id": "0Q_pQgHmoW0M"
      },
      "source": [
        "Now we want to build a \"conditional edge\" which will use the output state of a node to determine which path to follow.\n",
        "\n",
        "We can help conceptualize this by thinking of our conditional edge as a conditional in a flowchart!\n",
        "\n",
        "Notice how our function simply checks if there is a \"function_call\" kwarg present.\n",
        "\n",
        "Then we create an edge where the origin node is our agent node and our destination node is *either* the action node or the END (finish the graph).\n",
        "\n",
        "It's important to highlight that the dictionary passed in as the third parameter (the mapping) should be created with the possible outputs of our conditional function in mind. In this case `should_continue` outputs either `\"end\"` or `\"continue\"` which are subsequently mapped to the action node or the END node."
      ]
    },
    {
      "cell_type": "code",
      "execution_count": 14,
      "metadata": {
        "id": "1BZgb81VQf9o"
      },
      "outputs": [],
      "source": [
        "# Checks for the state's last message, if boolean for last_message is TRUE, go to action node. \n",
        "# Else, go to the END of the flowchart\n",
        "def should_continue(state):\n",
        "  last_message = state[\"messages\"][-1]\n",
        "\n",
        "  if last_message.tool_calls:\n",
        "    return \"action\"\n",
        "\n",
        "  return END\n",
        "\n",
        "# Adds the decision \"diamond\" in the flowchart\n",
        "uncompiled_graph.add_conditional_edges(\n",
        "    \"agent\",\n",
        "    should_continue\n",
        ")"
      ]
    },
    {
      "cell_type": "markdown",
      "metadata": {
        "id": "-Cvhcf4jp0Ce"
      },
      "source": [
        "Let's visualize what this looks like.\n",
        "\n",
        "![image](https://i.imgur.com/8ZNwKI5.png)"
      ]
    },
    {
      "cell_type": "markdown",
      "metadata": {
        "id": "yKCjWJCkrJb9"
      },
      "source": [
        "Finally, we can add our last edge which will connect our action node to our agent node. This is because we *always* want our action node (which is used to call our tools) to return its output to our agent!"
      ]
    },
    {
      "cell_type": "code",
      "execution_count": 15,
      "metadata": {
        "id": "UvcgbHf1rIXZ"
      },
      "outputs": [],
      "source": [
        "# Connects action node to agent\n",
        "uncompiled_graph.add_edge(\"action\", \"agent\")"
      ]
    },
    {
      "cell_type": "markdown",
      "metadata": {
        "id": "EiWDwBQtrw7Z"
      },
      "source": [
        "Let's look at the final visualization.\n",
        "\n",
        "![image](https://i.imgur.com/NWO7usO.png)"
      ]
    },
    {
      "cell_type": "markdown",
      "metadata": {
        "id": "KYqDpErlsCsu"
      },
      "source": [
        "All that's left to do now is to compile our workflow - and we're off!"
      ]
    },
    {
      "cell_type": "code",
      "execution_count": 16,
      "metadata": {
        "id": "zt9-KS8DpzNx"
      },
      "outputs": [],
      "source": [
        "#Compiles the flowchart\n",
        "compiled_graph = uncompiled_graph.compile()"
      ]
    },
    {
      "cell_type": "markdown",
      "metadata": {
        "id": "xhNWIwBL1W4Q"
      },
      "source": [
        "#### ❓ Question #2:\n",
        "\n",
        "Is there any specific limit to how many times we can cycle?\n",
        "\n",
        "If not, how could we impose a limit to the number of cycles?"
      ]
    },
    {
      "cell_type": "markdown",
      "metadata": {},
      "source": [
        "####  🟢  Answer #2:\n",
        "\n",
        "No, there are no specific limits on how many cycles.\n",
        "\n",
        "To impose a limit on the number of cycles, a simple approach would be to set a global variable limit. A dynamic solution would be to create a limit within a function that tracks how many times a specific tool was invoked. \n"
      ]
    },
    {
      "cell_type": "markdown",
      "metadata": {
        "id": "VEYcTShCsPaa"
      },
      "source": [
        "## Using Our Graph\n",
        "\n",
        "Now that we've created and compiled our graph - we can call it *just as we'd call any other* `Runnable`!\n",
        "\n",
        "Let's try out a few examples to see how it fairs:"
      ]
    },
    {
      "cell_type": "code",
      "execution_count": 17,
      "metadata": {
        "colab": {
          "base_uri": "https://localhost:8080/"
        },
        "id": "Qn4n37PQRPII",
        "outputId": "a5d7ef7a-13f2-4066-df52-b0df89eae2ae"
      },
      "outputs": [
        {
          "name": "stdout",
          "output_type": "stream",
          "text": [
            "Receiving update from node: 'agent'\n",
            "[AIMessage(content='', additional_kwargs={'tool_calls': [{'id': 'call_65sc1MvNNrkSfCzPDR9A60Vh', 'function': {'arguments': '{\"query\":\"current captain of the Winnipeg Jets 2023\"}', 'name': 'duckduckgo_search'}, 'type': 'function'}], 'refusal': None}, response_metadata={'token_usage': {'completion_tokens': 25, 'prompt_tokens': 156, 'total_tokens': 181}, 'model_name': 'gpt-4o-2024-05-13', 'system_fingerprint': 'fp_a2ff031fb5', 'finish_reason': 'tool_calls', 'logprobs': None}, id='run-ea4aeffb-5791-4245-ac8d-a874455f8e72-0', tool_calls=[{'name': 'duckduckgo_search', 'args': {'query': 'current captain of the Winnipeg Jets 2023'}, 'id': 'call_65sc1MvNNrkSfCzPDR9A60Vh', 'type': 'tool_call'}], usage_metadata={'input_tokens': 156, 'output_tokens': 25, 'total_tokens': 181})]\n",
            "\n",
            "\n",
            "\n",
            "Receiving update from node: 'action'\n",
            "[ToolMessage(content='Adam Lowry was named captain of the Winnipeg Jets on Tuesday. ... Hughes named Canucks captain, replaces Horvat Sep 11, 2023. Role of NHL captain much more than fans \\'C\\' Sep 20, 2023. Lowry will follow Andrew Ladd and Blake Wheeler to serve as the third captain of the new Winnipeg Jets franchise. - Sep 12, 2023. After a season without a captain, the Winnipeg Jets have named ... The Winnipeg Jets will have a captain for the 2023-24 season. After going captain-less in 2022-23, the Winnipeg Jets unveiled Adam Lowry as the club\\'s new captain on Tuesday morning. \"When I ... Posted September 12, 2023 9:29 am. Centre Adam Lowry was named the Winnipeg Jets new captain on Tuesday. Lowry is the third Jets captain since the team moved from Atlanta to Winnipeg in 2011. He follows Andrew Ladd and Blake Wheeler, who served as captain for five and six years respectively. Adam Lowry has been named the third captain of the relocated Winnipeg Jets franchise, the team announced Tuesday. ... 2023, 9:52 AM. 0. September 12, 2023, 9:52 AM. 0. We use cookies to improve ...', name='duckduckgo_search', tool_call_id='call_65sc1MvNNrkSfCzPDR9A60Vh')]\n",
            "\n",
            "\n",
            "\n",
            "Receiving update from node: 'agent'\n",
            "[AIMessage(content='The current captain of the Winnipeg Jets is Adam Lowry, who was named captain on September 12, 2023.', additional_kwargs={'refusal': None}, response_metadata={'token_usage': {'completion_tokens': 26, 'prompt_tokens': 460, 'total_tokens': 486}, 'model_name': 'gpt-4o-2024-05-13', 'system_fingerprint': 'fp_157b3831f5', 'finish_reason': 'stop', 'logprobs': None}, id='run-4dfd8d12-74d7-4f36-be49-1611bab509c1-0', usage_metadata={'input_tokens': 460, 'output_tokens': 26, 'total_tokens': 486})]\n",
            "\n",
            "\n",
            "\n"
          ]
        }
      ],
      "source": [
        "from langchain_core.messages import HumanMessage\n",
        "\n",
        "inputs = {\"messages\" : [HumanMessage(content=\"Who is the current captain of the Winnipeg Jets?\")]}\n",
        "\n",
        "async for chunk in compiled_graph.astream(inputs, stream_mode=\"updates\"):\n",
        "    for node, values in chunk.items():\n",
        "        print(f\"Receiving update from node: '{node}'\")\n",
        "        print(values[\"messages\"])\n",
        "        print(\"\\n\\n\")"
      ]
    },
    {
      "cell_type": "markdown",
      "metadata": {
        "id": "DBHnUtLSscRr"
      },
      "source": [
        "Let's look at what happened:\n",
        "\n",
        "1. Our state object was populated with our request\n",
        "2. The state object was passed into our entry point (agent node) and the agent node added an `AIMessage` to the state object and passed it along the conditional edge\n",
        "3. The conditional edge received the state object, found the \"tool_calls\" `additional_kwarg`, and sent the state object to the action node\n",
        "4. The action node added the response from the OpenAI function calling endpoint to the state object and passed it along the edge to the agent node\n",
        "5. The agent node added a response to the state object and passed it along the conditional edge\n",
        "6. The conditional edge received the state object, could not find the \"tool_calls\" `additional_kwarg` and passed the state object to END where we see it output in the cell above!\n",
        "\n",
        "Now let's look at an example that shows a multiple tool usage - all with the same flow!"
      ]
    },
    {
      "cell_type": "code",
      "execution_count": 36,
      "metadata": {},
      "outputs": [],
      "source": [
        "from IPython.display import display, Markdown\n",
        "\n",
        "def pretty_print(message: str) -> str:\n",
        "    display(Markdown(message))"
      ]
    },
    {
      "cell_type": "code",
      "execution_count": 39,
      "metadata": {
        "colab": {
          "base_uri": "https://localhost:8080/"
        },
        "id": "afv2BuEsV5JG",
        "outputId": "026a3aa3-1c3e-4016-b0a3-fe98b1d25399"
      },
      "outputs": [
        {
          "name": "stdout",
          "output_type": "stream",
          "text": [
            "Receiving update from node: 'agent'\n",
            "[AIMessage(content='', additional_kwargs={'tool_calls': [{'id': 'call_q2r44GWhtWN35fURpTOH8U11', 'function': {'arguments': '{\"query\": \"QLoRA\"}', 'name': 'arxiv'}, 'type': 'function'}, {'id': 'call_1wf4pEzYBmtuuUPmhV0bWR8O', 'function': {'arguments': '{\"query\": \"QLoRA paper authors\"}', 'name': 'duckduckgo_search'}, 'type': 'function'}], 'refusal': None}, response_metadata={'token_usage': {'completion_tokens': 53, 'prompt_tokens': 173, 'total_tokens': 226}, 'model_name': 'gpt-4o-2024-05-13', 'system_fingerprint': 'fp_157b3831f5', 'finish_reason': 'tool_calls', 'logprobs': None}, id='run-68f3292d-86f3-424b-bf7a-df206cd993cd-0', tool_calls=[{'name': 'arxiv', 'args': {'query': 'QLoRA'}, 'id': 'call_q2r44GWhtWN35fURpTOH8U11', 'type': 'tool_call'}, {'name': 'duckduckgo_search', 'args': {'query': 'QLoRA paper authors'}, 'id': 'call_1wf4pEzYBmtuuUPmhV0bWR8O', 'type': 'tool_call'}], usage_metadata={'input_tokens': 173, 'output_tokens': 53, 'total_tokens': 226})]\n",
            "\n",
            "\n",
            "\n",
            "Receiving update from node: 'action'\n",
            "Tool Used: arxiv\n",
            "[ToolMessage(content='Published: 2023-05-23\\nTitle: QLoRA: Efficient Finetuning of Quantized LLMs\\nAuthors: Tim Dettmers, Artidoro Pagnoni, Ari Holtzman, Luke Zettlemoyer\\nSummary: We present QLoRA, an efficient finetuning approach that reduces memory usage\\nenough to finetune a 65B parameter model on a single 48GB GPU while preserving\\nfull 16-bit finetuning task performance. QLoRA backpropagates gradients through\\na frozen, 4-bit quantized pretrained language model into Low Rank\\nAdapters~(LoRA). Our best model family, which we name Guanaco, outperforms all\\nprevious openly released models on the Vicuna benchmark, reaching 99.3% of the\\nperformance level of ChatGPT while only requiring 24 hours of finetuning on a\\nsingle GPU. QLoRA introduces a number of innovations to save memory without\\nsacrificing performance: (a) 4-bit NormalFloat (NF4), a new data type that is\\ninformation theoretically optimal for normally distributed weights (b) double\\nquantization to reduce the average memory footprint by quantizing the\\nquantization constants, and (c) paged optimziers to manage memory spikes. We\\nuse QLoRA to finetune more than 1,000 models, providing a detailed analysis of\\ninstruction following and chatbot performance across 8 instruction datasets,\\nmultiple model types (LLaMA, T5), and model scales that would be infeasible to\\nrun with regular finetuning (e.g. 33B and 65B parameter models). Our results\\nshow that QLoRA finetuning on a small high-quality dataset leads to\\nstate-of-the-art results, even when using smaller models than the previous\\nSoTA. We provide a detailed analysis of chatbot performance based on both human\\nand GPT-4 evaluations showing that GPT-4 evaluations are a cheap and reasonable\\nalternative to human evaluation. Furthermore, we find that current chatbot\\nbenchmarks are not trustworthy to accurately evaluate the performance levels of\\nchatbots. A lemon-picked analysis demonstrates where Guanaco fails compared to\\nChatGPT. We release all of our models and code, including CUDA kernels for\\n4-bit training.\\n\\nPublished: 2024-05-27\\nTitle: Accurate LoRA-Finetuning Quantization of LLMs via Information Retention\\nAuthors: Haotong Qin, Xudong Ma, Xingyu Zheng, Xiaoyang Li, Yang Zhang, Shouda Liu, Jie Luo, Xianglong Liu, Michele Magno\\nSummary: The LoRA-finetuning quantization of LLMs has been extensively studied to\\nobtain accurate yet compact LLMs for deployment on resource-constrained\\nhardware. However, existing methods cause the quantized LLM to severely degrade\\nand even fail to benefit from the finetuning of LoRA. This paper proposes a\\nnovel IR-QLoRA for pushing quantized LLMs with LoRA to be highly accurate\\nthrough information retention. The proposed IR-QLoRA mainly relies on two\\ntechnologies derived from the perspective of unified information: (1)\\nstatistics-based Information Calibration Quantization allows the quantized\\nparameters of LLM to retain original information accurately; (2)\\nfinetuning-based Information Elastic Connection makes LoRA utilizes elastic\\nrepresentation transformation with diverse information. Comprehensive\\nexperiments show that IR-QLoRA can significantly improve accuracy across LLaMA\\nand LLaMA2 families under 2-4 bit-widths, e.g., 4- bit LLaMA-7B achieves 1.4%\\nimprovement on MMLU compared with the state-of-the-art methods. The significant\\nperformance gain requires only a tiny 0.31% additional time consumption,\\nrevealing the satisfactory efficiency of our IR-QLoRA. We highlight that\\nIR-QLoRA enjoys excellent versatility, compatible with various frameworks\\n(e.g., NormalFloat and Integer quantization) and brings general accuracy gains.\\nThe code is available at https://github.com/htqin/ir-qlora.\\n\\nPublished: 2024-06-12\\nTitle: Exploring Fact Memorization and Style Imitation in LLMs Using QLoRA: An Experimental Study and Quality Assessment Methods\\nAuthors: Eugene Vyborov, Oleksiy Osypenko, Serge Sotnyk\\nSummary: There are various methods for adapting LLMs to different domains. The most\\ncommon methods are prompting, finetuning, and RAG. In this w', name='arxiv', tool_call_id='call_q2r44GWhtWN35fURpTOH8U11'), ToolMessage(content=\"View a PDF of the paper titled Bailong: Bilingual Transfer Learning based on QLoRA and Zip-tie Embedding, by Lung-Chuan Chen and Zong-Ru Li QLORA: efficient finetuning of quantized LLMs AUTHORs: Tim Dettmers, Artidoro Pagnoni, Ari Holtzman, Luke Zettlemoyer Authors Info & Claims NIPS '23: Proceedings of the 37th International Conference on Neural Information Processing Systems Article No.: 441, Pages 10088 - 10115 Published: 30 May 2024 Publication History 0 Publisher Site In QLoRA, we use NF4 for W and FP8 for c2. The authors of the QLoRA paper used a blocksize of 64 for W for higher quantization precision and a blocksize of 256 for c2 to conserve memory. The authors of the QLoRA paper created an information-theoretically optimal quantization data type for normally distributed data that yields better empirical results than 4-bit Integers and 4-bit Floats. Moreover, QLoRA is trained on a pre-defined rank and, therefore, cannot be reconfigured for its lower ranks without requiring further fine-tuning steps. This paper proposes QDyLoRA -Quantized Dynamic Low-Rank Adaptation-, as an efficient quantization approach for dynamic low-rank adaptation.\", name='duckduckgo_search', tool_call_id='call_1wf4pEzYBmtuuUPmhV0bWR8O')]\n",
            "\n",
            "\n",
            "\n",
            "Receiving update from node: 'agent'\n",
            "[AIMessage(content='', additional_kwargs={'tool_calls': [{'id': 'call_21eMZ9tHbUs53YRJtNlzFLyt', 'function': {'arguments': '{\"query\": \"Tim Dettmers latest Tweet\"}', 'name': 'duckduckgo_search'}, 'type': 'function'}, {'id': 'call_uP3o8PkVT7tjis76icNYSpOu', 'function': {'arguments': '{\"query\": \"Artidoro Pagnoni latest Tweet\"}', 'name': 'duckduckgo_search'}, 'type': 'function'}, {'id': 'call_pcKDpmTzCnBNq5tEiun9orIk', 'function': {'arguments': '{\"query\": \"Ari Holtzman latest Tweet\"}', 'name': 'duckduckgo_search'}, 'type': 'function'}, {'id': 'call_jl0JEA7fyCB6oOILjXbsWSsW', 'function': {'arguments': '{\"query\": \"Luke Zettlemoyer latest Tweet\"}', 'name': 'duckduckgo_search'}, 'type': 'function'}], 'refusal': None}, response_metadata={'token_usage': {'completion_tokens': 108, 'prompt_tokens': 1487, 'total_tokens': 1595}, 'model_name': 'gpt-4o-2024-05-13', 'system_fingerprint': 'fp_157b3831f5', 'finish_reason': 'tool_calls', 'logprobs': None}, id='run-2d41c549-d265-4ab9-9888-8c845a831704-0', tool_calls=[{'name': 'duckduckgo_search', 'args': {'query': 'Tim Dettmers latest Tweet'}, 'id': 'call_21eMZ9tHbUs53YRJtNlzFLyt', 'type': 'tool_call'}, {'name': 'duckduckgo_search', 'args': {'query': 'Artidoro Pagnoni latest Tweet'}, 'id': 'call_uP3o8PkVT7tjis76icNYSpOu', 'type': 'tool_call'}, {'name': 'duckduckgo_search', 'args': {'query': 'Ari Holtzman latest Tweet'}, 'id': 'call_pcKDpmTzCnBNq5tEiun9orIk', 'type': 'tool_call'}, {'name': 'duckduckgo_search', 'args': {'query': 'Luke Zettlemoyer latest Tweet'}, 'id': 'call_jl0JEA7fyCB6oOILjXbsWSsW', 'type': 'tool_call'}], usage_metadata={'input_tokens': 1487, 'output_tokens': 108, 'total_tokens': 1595})]\n",
            "\n",
            "\n",
            "\n",
            "Receiving update from node: 'action'\n",
            "Tool Used: duckduckgo_search\n",
            "[ToolMessage(content=\"Error: RatelimitException('https://duckduckgo.com 202 Ratelimit')\\n Please fix your mistakes.\", name='duckduckgo_search', tool_call_id='call_21eMZ9tHbUs53YRJtNlzFLyt'), ToolMessage(content=\"We present QLoRA, an efficient finetuning approach that reduces memory usage enough to finetune a 65B parameter model on a single 48GB GPU while preserving full 16-bit finetuning task performance. QLoRA backpropagates gradients through a frozen, 4-bit quantized pretrained language model into Low Rank Adapters~(LoRA). Our best model family, which we name Guanaco, outperforms all previous openly ... efficient finetuning of quantized LLMs. AUTHORs: Tim Dettmers, Artidoro Pagnoni, Ari Holtzman, Luke Zettlemoyer Authors Info & Claims. NIPS '23: Proceedings of the 37th International Conference on Neural Information Processing Systems. Article No.: 441, Pages 10088 - 10115. Published: 30 May 2024 Publication History. Pagnoni et al. (2021) Artidoro Pagnoni, Vidhisha Balachandran, and Yulia Tsvetkov. 2021. Understanding factuality in abstractive summarization with FRANK: A benchmark for factuality metrics . In Proceedings of the 2021 Conference of the North American Chapter of the Association for Computational Linguistics: Human Language Technologies , pages ... Fine-tuning large language models (LLMs) is a common practice to adapt them for specific tasks, but it can be computationally expensive. LoRA (Low-Rank Adaptation) is a technique that makes this process more efficient by introducing small adapter modules to the model. These adapters capture task-specific knowledge without modifying the original ... TL;DR: Fine-tuning large language models like Llama-2 on consumer GPUs could be hard due to their massive memory requirements. However, techniques like Parameter Efficient Fine-Tuning (PEFT ...\", name='duckduckgo_search', tool_call_id='call_uP3o8PkVT7tjis76icNYSpOu'), ToolMessage(content=\"MSNBC host Ari Melber, during an interview with Trump campaign adviser Corey Lewandowski on Wednesday, threatened him with a defamation lawsuit for quoting the anchor calling the former President ... The team behind QLoRA includes Allen School Ph.D. student Artidoro Pagnoni; alum Ari Holtzman (Ph.D., '23), incoming professor at the University of Chicago; and professor Luke Zettlemoyer, who is also a research manager at Meta. Madrona Prize First Runner Up / Punica: Multi-Tenant LoRA Fine-tuned LLM Serving Jack Hessel † Ari Holtzman ... When uploading an image alongside a tweet, users of Twitter have the option of providing alternative text: while few use this feature (gleason2019s find that fewer than .1% of image tweets have alt-text), its broader adoption might someday make social media more accessible for low vision and blind users. We ... [ZHB+19] Rowan Zellers, Ari Holtzman, Yonatan Bisk, Ali Farhadi, and Yejin Choi. Hellaswag: Can a machine really finish your sentence? In Proceedings of the 57th Annual Meeting of the Association for Computational Linguistics, pages 4791-4800, 2019. [ZNIS23] Haibo Zhang, Toru Nakamura, Takamasa Isohara, and Kouichi Sakurai. We present QLoRA, an efficient finetuning approach that reduces memory usage enough to finetune a 65B parameter model on a single 48GB GPU while preserving full 16-bit finetuning task performance. QLoRA backpropagates gradients through a frozen, 4-bit quantized pretrained language model into Low Rank Adapters~(LoRA). Our best model family, which we name Guanaco, outperforms all previous openly ...\", name='duckduckgo_search', tool_call_id='call_pcKDpmTzCnBNq5tEiun9orIk'), ToolMessage(content=\"Luke Zettlemoyer is a research manager and site lead for FAIR Seattle. He is also a Professor in the Allen School of Computer Science & Engineering at the University of Washington. His research is in empirical computational semantics, where the goal is to build models that recover representations of the meaning of natural language text. Evaluating the factuality of long-form text generated by large language models (LMs) is nontrivial because (1) generations often contain a mixture of... We introduce MoMa, a novel modality-aware mixture-of-experts (MoE) architecture designed for pre-training mixed-modal, early-fusion language models. MoMa processes images and text in arbitrary sequences by dividing expert modules into modality-specific groups. These groups exclusively process designated tokens while employing learned routing within each group to maintain semantically informed ... \\ufeff Twitter \\ufeff Reddit. Join our list for notifications and early access to events ... About this Episode. Today we're joined by Luke Zettlemoyer, professor at University of Washington and a research manager at Meta. In our conversation with Luke, we cover multimodal generative AI, the effect of data on models, and the significance of open ... Today we're joined by Luke Zettlemoyer, professor at University of Washington and a research manager at Meta. In our conversation with Luke, we cover multimodal generative AI, the effect of data on models, and the significance of open source and open science. We explore the grounding problem, the need for visual grounding and embodiment in\", name='duckduckgo_search', tool_call_id='call_jl0JEA7fyCB6oOILjXbsWSsW')]\n",
            "\n",
            "\n",
            "\n",
            "Receiving update from node: 'agent'\n",
            "[AIMessage(content=\"Here are the details about the QLoRA paper and the latest information I could find about its authors:\\n\\n### QLoRA Paper\\n- **Title**: QLoRA: Efficient Finetuning of Quantized LLMs\\n- **Authors**: Tim Dettmers, Artidoro Pagnoni, Ari Holtzman, Luke Zettlemoyer\\n- **Summary**: QLoRA is an efficient finetuning approach that reduces memory usage enough to finetune a 65B parameter model on a single 48GB GPU while preserving full 16-bit finetuning task performance. It introduces innovations like 4-bit NormalFloat (NF4), double quantization, and paged optimizers to manage memory spikes. The best model family, Guanaco, outperforms previous models on the Vicuna benchmark, reaching 99.3% of ChatGPT's performance level with only 24 hours of finetuning on a single GPU.\\n\\n### Latest Information on Authors\\n1. **Tim Dettmers**\\n   - **Latest Tweet**: Unable to retrieve due to rate limit issues.\\n\\n2. **Artidoro Pagnoni**\\n   - **Latest Tweet**: Unable to retrieve due to rate limit issues.\\n\\n3. **Ari Holtzman**\\n   - **Latest Tweet**: Unable to retrieve due to rate limit issues.\\n\\n4. **Luke Zettlemoyer**\\n   - **Latest Tweet**: Unable to retrieve due to rate limit issues.\\n\\nUnfortunately, I encountered rate limit issues while trying to fetch the latest tweets from the authors. You might want to check their Twitter profiles directly for the most recent updates.\", additional_kwargs={'refusal': None}, response_metadata={'token_usage': {'completion_tokens': 336, 'prompt_tokens': 2695, 'total_tokens': 3031}, 'model_name': 'gpt-4o-2024-05-13', 'system_fingerprint': 'fp_157b3831f5', 'finish_reason': 'stop', 'logprobs': None}, id='run-8e965a58-a2aa-4a46-aa27-cab57f000abd-0', usage_metadata={'input_tokens': 2695, 'output_tokens': 336, 'total_tokens': 3031})]\n",
            "\n",
            "\n",
            "\n"
          ]
        }
      ],
      "source": [
        "inputs = {\"messages\" : [HumanMessage(content=\"Search Arxiv for the QLoRA paper, then search each of the authors to find out their latest Tweet using DuckDuckGo.\")]}\n",
        "\n",
        "async for chunk in compiled_graph.astream(inputs, stream_mode=\"updates\"):\n",
        "    for node, values in chunk.items():\n",
        "        print(f\"Receiving update from node: '{node}'\")\n",
        "        if node == \"action\":\n",
        "          print(f\"Tool Used: {values['messages'][0].name}\")\n",
        "        print(values[\"messages\"])\n",
        "\n",
        "        print(\"\\n\\n\")"
      ]
    },
    {
      "cell_type": "markdown",
      "metadata": {
        "id": "CXzDlZVz1Hnf"
      },
      "source": [
        "#### 🏗️ Activity #2:\n",
        "\n",
        "Please write out the steps the agent took to arrive at the correct answer."
      ]
    },
    {
      "cell_type": "markdown",
      "metadata": {},
      "source": [
        "####  🟢  Activity  #2:\n",
        "\n",
        "1. The state object was populated with a request to use Arxiv for the QLoRA paper, search each authors, and then use DuckDuckGo to check their latest Tweet\n",
        "\n",
        "2. The state object was passed into the entry point, agent_node, which added AIMessage to the state object and passed it to the conditional edge\n",
        "\n",
        "3. The conditional edge received the state object and found the tool_calls additional_kwargs. Since it passed the should_continue boolean condition, the conditional edge moved the state object to the action node.\n",
        "\n",
        "4. The action node, based on the explicit tool schema call, used the relevant Arxiv function to find the names of each author of the QLoRA paper. It moved to the agent node with a triggered duckduckgo tool schema.\n",
        "\n",
        "5. The agent node received the names of the QLoRA paper and used the duckduckgo search function to perform the latest directive, which is each author's latest tweet. It passes the updated state to the conditional edge. \n",
        "\n",
        "6. Since additional_kwargs 'tool_calls' is filled, the conditional edge passes the state object to the action node again.\n",
        "\n",
        "7. The action node received a duckduckgo RateLimitException error, but still managed to provide contextual information on the authors despite not being able to retrieve latest tweets. The action node moved to the agent node with its current information.\n",
        "\n",
        "8. The agent node has acquired the names of the authors, the abstract of the QLoRA, and the lack of latest tweet detail due to rate limit issues. The agent node suggested a direct visit to the authors' Twitter profiles to get recent updates. \n",
        "\n",
        "9. The conditional edge received the latest updated agent node information, however since additional_kwargs = {'refusal': None}, it has now triggered END\n",
        "\n"
      ]
    },
    {
      "cell_type": "markdown",
      "metadata": {
        "id": "v7c8-Uyarh1v"
      },
      "source": [
        "## Part 1: LangSmith Evaluator"
      ]
    },
    {
      "cell_type": "markdown",
      "metadata": {
        "id": "pV3XeFOT1Sar"
      },
      "source": [
        "### Pre-processing for LangSmith"
      ]
    },
    {
      "cell_type": "markdown",
      "metadata": {
        "id": "wruQCuzewUuO"
      },
      "source": [
        "To do a little bit more preprocessing, let's wrap our LangGraph agent in a simple chain."
      ]
    },
    {
      "cell_type": "code",
      "execution_count": 19,
      "metadata": {
        "id": "oeXdQgbxwhTv"
      },
      "outputs": [],
      "source": [
        "# Prep the input into the expected format of the graph\n",
        "def convert_inputs(input_object):\n",
        "  return {\"messages\" : [HumanMessage(content=input_object[\"question\"])]}\n",
        "\n",
        "# Outputs the final processed data\n",
        "def parse_output(input_state):\n",
        "  return input_state[\"messages\"][-1].content\n",
        "\n",
        "#connects the functions and the compiled graph using the pipe operator\n",
        "agent_chain = convert_inputs | compiled_graph | parse_output"
      ]
    },
    {
      "cell_type": "code",
      "execution_count": 20,
      "metadata": {
        "colab": {
          "base_uri": "https://localhost:8080/",
          "height": 139
        },
        "id": "orYxBZXSxJjZ",
        "outputId": "b160f3e4-89d1-4411-ed96-fe17b3cad200"
      },
      "outputs": [
        {
          "data": {
            "text/plain": [
              "\"RAG stands for Retrieval-Augmented Generation. It is a technique used in natural language processing (NLP) and machine learning to improve the performance of language models by combining retrieval-based methods with generative models. Here's a brief overview of how it works:\\n\\n1. **Retrieval**: In the first step, the system retrieves relevant documents or pieces of information from a large corpus or database. This is typically done using a retrieval model, such as BM25 or a dense retrieval model like DPR (Dense Passage Retrieval).\\n\\n2. **Augmentation**: The retrieved documents are then used to augment the input to the generative model. This means that the generative model has access to additional context or information that can help it produce more accurate and relevant responses.\\n\\n3. **Generation**: Finally, the generative model, such as GPT-3 or BERT, uses the augmented input to generate a response. The additional context provided by the retrieved documents helps the model generate more informed and contextually appropriate responses.\\n\\nRAG is particularly useful in scenarios where the generative model alone might not have enough information to produce a high-quality response, such as in open-domain question answering or conversational AI. By leveraging external knowledge sources, RAG can significantly enhance the performance and accuracy of language models.\""
            ]
          },
          "execution_count": 20,
          "metadata": {},
          "output_type": "execute_result"
        }
      ],
      "source": [
        "agent_chain.invoke({\"question\" : \"What is RAG?\"})"
      ]
    },
    {
      "cell_type": "markdown",
      "metadata": {
        "id": "f9UkCIqkpyZu"
      },
      "source": [
        "### Task 1: Creating An Evaluation Dataset\n",
        "\n",
        "Just as we saw last week, we'll want to create a dataset to test our Agent's ability to answer questions.\n",
        "\n",
        "In order to do this - we'll want to provide some questions and some answers. Let's look at how we can create such a dataset below.\n",
        "\n",
        "```python\n",
        "questions = [\n",
        "    \"What optimizer is used in QLoRA?\",\n",
        "    \"What data type was created in the QLoRA paper?\",\n",
        "    \"What is a Retrieval Augmented Generation system?\",\n",
        "    \"Who authored the QLoRA paper?\",\n",
        "    \"What is the most popular deep learning framework?\",\n",
        "    \"What significant improvements does the LoRA system make?\"\n",
        "]\n",
        "\n",
        "answers = [\n",
        "    {\"must_mention\" : [\"paged\", \"optimizer\"]},\n",
        "    {\"must_mention\" : [\"NF4\", \"NormalFloat\"]},\n",
        "    {\"must_mention\" : [\"ground\", \"context\"]},\n",
        "    {\"must_mention\" : [\"Tim\", \"Dettmers\"]},\n",
        "    {\"must_mention\" : [\"PyTorch\", \"TensorFlow\"]},\n",
        "    {\"must_mention\" : [\"reduce\", \"parameters\"]},\n",
        "]\n",
        "```"
      ]
    },
    {
      "cell_type": "markdown",
      "metadata": {
        "id": "VfMXF2KAsQxs"
      },
      "source": [
        "####🏗️ Activity #3:\n",
        "\n",
        "Please create a dataset in the above format with at least 5 questions."
      ]
    },
    {
      "cell_type": "markdown",
      "metadata": {},
      "source": [
        "####  🟢  Activity  #3:"
      ]
    },
    {
      "cell_type": "code",
      "execution_count": 41,
      "metadata": {
        "id": "CbagRuJop83E"
      },
      "outputs": [],
      "source": [
        "questions = [\n",
        "    \"What are the two most common copywriting framework?\",\n",
        "    \"Who wrote 'At 60 miles an hour, the loudest noise in this new Rolls-Royce comes from the electric clock'?\",\n",
        "    \"Is copywriting the same as content writing?\",\n",
        "    \"What are the 5 stages of awareness?\",\n",
        "    \"What are other terms for customer avatar?\",\n",
        "]\n",
        "answers = [\n",
        "    {\"must_mention\" : [\"PAS\", \"AIDA\"]},\n",
        "    {\"must_mention\" : [\"David\", \"Ogilvy\"]},\n",
        "    {\"must_mention\" : [\"No\", \"Different\"]},\n",
        "    {\"must_mention\" : [\"Unaware\", \"Problem Aware\", \"Solution Aware\", \"Product Aware\", \"Most Aware\"]},\n",
        "    {\"must_mention\" : [\"Ideal Customer\", \"Buyer Persona\", \"Marketing Persona\", \"Customer Profile\"]},\n",
        "]"
      ]
    },
    {
      "cell_type": "markdown",
      "metadata": {
        "id": "z7QVFuAmsh7L"
      },
      "source": [
        "Now we can add our dataset to our LangSmith project using the following code which we saw last Thursday!"
      ]
    },
    {
      "cell_type": "code",
      "execution_count": 42,
      "metadata": {
        "id": "RLfrZrgSsn85"
      },
      "outputs": [],
      "source": [
        "from langsmith import Client\n",
        "\n",
        "client = Client()\n",
        "dataset_name = f\"Retrieval Augmented Generation - Evaluation Dataset - {uuid4().hex[0:8]}\"\n",
        "\n",
        "# Creates a dataset \n",
        "dataset = client.create_dataset(\n",
        "    dataset_name=dataset_name,\n",
        "    description=\"Questions about copywriting.\"\n",
        ")\n",
        "\n",
        "# Pulls questions and answers for baseline analysis and reasoning\n",
        "client.create_examples(\n",
        "    inputs=[{\"question\" : q} for q in questions],\n",
        "    outputs=answers,\n",
        "    dataset_id=dataset.id,\n",
        ")"
      ]
    },
    {
      "cell_type": "markdown",
      "metadata": {
        "id": "ciV73F9Q04w0"
      },
      "source": [
        "#### ❓ Question #3:\n",
        "\n",
        "How are the correct answers associated with the questions?\n",
        "\n",
        "> NOTE: Feel free to indicate if this is problematic or not"
      ]
    },
    {
      "cell_type": "markdown",
      "metadata": {},
      "source": [
        "####  🟢  Answer #3:\n",
        "\n",
        "Based on the code, the inputs variable's for loop in the questions list assumes its index position matches the index position of the outputs variable's answer list. \n",
        "\n",
        "There are 2 main problems with this approach:\n",
        "1. Vulnerability to mismatching index positions  \n",
        "2. Whether the 'hard coded' answers are correct in the first place. \n",
        "\n",
        "Basically, this is problematic since it's vulnerable to human error (which is typical) which will lead to model hallucinations\n"
      ]
    },
    {
      "cell_type": "markdown",
      "metadata": {
        "id": "-lRTXUrTtP9Y"
      },
      "source": [
        "### Task 2: Adding Evaluators\n",
        "\n",
        "Now we can add a custom evaluator to see if our responses contain the expected information.\n",
        "\n",
        "We'll be using a fairly naive exact-match process to determine if our response contains specific strings."
      ]
    },
    {
      "cell_type": "code",
      "execution_count": 43,
      "metadata": {
        "id": "QrAUXMFftlAY"
      },
      "outputs": [],
      "source": [
        "from langsmith.evaluation import EvaluationResult, run_evaluator\n",
        "\n",
        "@run_evaluator\n",
        "def must_mention(run, example) -> EvaluationResult:\n",
        "    prediction = run.outputs.get(\"output\") or \"\"\n",
        "    required = example.outputs.get(\"must_mention\") or []\n",
        "    score = all(phrase in prediction for phrase in required)\n",
        "    return EvaluationResult(key=\"must_mention\", score=score)"
      ]
    },
    {
      "cell_type": "markdown",
      "metadata": {
        "id": "PNtHORUh0jZY"
      },
      "source": [
        "#### ❓ Question #4:\n",
        "\n",
        "What are some ways you could improve this metric as-is?\n",
        "\n",
        "> NOTE: Alternatively you can suggest where gaps exist in this method."
      ]
    },
    {
      "cell_type": "markdown",
      "metadata": {},
      "source": [
        "####  🟢  Answer #4:\n",
        "\n",
        "1. Adding a positive/negative flag to the must_mention to avoid false positive \n",
        "    - \"What is a Cicada?\" --> [\"Positive\": \"Insect\", \"Negative\": \"Mammal\"]\n",
        "    - or to add better contextual information:\n",
        "    - Example: \"What is a Cicada?\" --> [\"Positive\": \"Organiztion\", \"Puzzle\", \"Negative\": \"Insect\"]\n",
        "2. Adding a Partial Match/Variation Handling function may improve accuracy metrics by considering synonyms and paraphrases. "
      ]
    },
    {
      "cell_type": "markdown",
      "metadata": {
        "id": "mZ4DVSXl0BX5"
      },
      "source": [
        "Now that we have created our custom evaluator - let's initialize our `RunEvalConfig` with it!"
      ]
    },
    {
      "cell_type": "code",
      "execution_count": 44,
      "metadata": {
        "id": "sL4-XcjytWsu"
      },
      "outputs": [],
      "source": [
        "from langchain.smith import RunEvalConfig, run_on_dataset\n",
        "\n",
        "eval_config = RunEvalConfig(\n",
        "    custom_evaluators=[must_mention],\n",
        ")"
      ]
    },
    {
      "cell_type": "markdown",
      "metadata": {
        "id": "r1RJr349zhv7"
      },
      "source": [
        "Task 3: Evaluating\n",
        "\n",
        "All that is left to do is evaluate our agent's response!"
      ]
    },
    {
      "cell_type": "code",
      "execution_count": 45,
      "metadata": {
        "colab": {
          "base_uri": "https://localhost:8080/"
        },
        "id": "p5TeCUUkuGld",
        "outputId": "8b98fff1-bd75-4dbe-cadc-a76d8a82577c"
      },
      "outputs": [
        {
          "name": "stdout",
          "output_type": "stream",
          "text": [
            "View the evaluation results for project 'RAG Pipeline - Evaluation - 31b9da9e' at:\n",
            "https://smith.langchain.com/o/0644556e-2f7e-51f7-828a-2e555502e063/datasets/9b3369e3-cf0c-489d-81cb-8b55dd2a8cd7/compare?selectedSessions=703b83c9-409f-4be9-baea-6c3af866cbc4\n",
            "\n",
            "View all tests for Dataset Retrieval Augmented Generation - Evaluation Dataset - 871795e4 at:\n",
            "https://smith.langchain.com/o/0644556e-2f7e-51f7-828a-2e555502e063/datasets/9b3369e3-cf0c-489d-81cb-8b55dd2a8cd7\n",
            "[------------------------------------------------->] 5/5"
          ]
        },
        {
          "data": {
            "text/html": [
              "<h3>Experiment Results:</h3>"
            ],
            "text/plain": [
              "<IPython.core.display.HTML object>"
            ]
          },
          "metadata": {},
          "output_type": "display_data"
        },
        {
          "data": {
            "text/html": [
              "<div>\n",
              "<style scoped>\n",
              "    .dataframe tbody tr th:only-of-type {\n",
              "        vertical-align: middle;\n",
              "    }\n",
              "\n",
              "    .dataframe tbody tr th {\n",
              "        vertical-align: top;\n",
              "    }\n",
              "\n",
              "    .dataframe thead th {\n",
              "        text-align: right;\n",
              "    }\n",
              "</style>\n",
              "<table border=\"1\" class=\"dataframe\">\n",
              "  <thead>\n",
              "    <tr style=\"text-align: right;\">\n",
              "      <th></th>\n",
              "      <th>feedback.must_mention</th>\n",
              "      <th>error</th>\n",
              "      <th>execution_time</th>\n",
              "      <th>run_id</th>\n",
              "    </tr>\n",
              "  </thead>\n",
              "  <tbody>\n",
              "    <tr>\n",
              "      <th>count</th>\n",
              "      <td>5</td>\n",
              "      <td>0</td>\n",
              "      <td>5.000000</td>\n",
              "      <td>5</td>\n",
              "    </tr>\n",
              "    <tr>\n",
              "      <th>unique</th>\n",
              "      <td>2</td>\n",
              "      <td>0</td>\n",
              "      <td>NaN</td>\n",
              "      <td>5</td>\n",
              "    </tr>\n",
              "    <tr>\n",
              "      <th>top</th>\n",
              "      <td>True</td>\n",
              "      <td>NaN</td>\n",
              "      <td>NaN</td>\n",
              "      <td>315441fd-b80d-457a-9e79-2e6aa8bcf90f</td>\n",
              "    </tr>\n",
              "    <tr>\n",
              "      <th>freq</th>\n",
              "      <td>4</td>\n",
              "      <td>NaN</td>\n",
              "      <td>NaN</td>\n",
              "      <td>1</td>\n",
              "    </tr>\n",
              "    <tr>\n",
              "      <th>mean</th>\n",
              "      <td>NaN</td>\n",
              "      <td>NaN</td>\n",
              "      <td>2.995911</td>\n",
              "      <td>NaN</td>\n",
              "    </tr>\n",
              "    <tr>\n",
              "      <th>std</th>\n",
              "      <td>NaN</td>\n",
              "      <td>NaN</td>\n",
              "      <td>0.512701</td>\n",
              "      <td>NaN</td>\n",
              "    </tr>\n",
              "    <tr>\n",
              "      <th>min</th>\n",
              "      <td>NaN</td>\n",
              "      <td>NaN</td>\n",
              "      <td>2.354585</td>\n",
              "      <td>NaN</td>\n",
              "    </tr>\n",
              "    <tr>\n",
              "      <th>25%</th>\n",
              "      <td>NaN</td>\n",
              "      <td>NaN</td>\n",
              "      <td>2.548716</td>\n",
              "      <td>NaN</td>\n",
              "    </tr>\n",
              "    <tr>\n",
              "      <th>50%</th>\n",
              "      <td>NaN</td>\n",
              "      <td>NaN</td>\n",
              "      <td>3.265696</td>\n",
              "      <td>NaN</td>\n",
              "    </tr>\n",
              "    <tr>\n",
              "      <th>75%</th>\n",
              "      <td>NaN</td>\n",
              "      <td>NaN</td>\n",
              "      <td>3.278355</td>\n",
              "      <td>NaN</td>\n",
              "    </tr>\n",
              "    <tr>\n",
              "      <th>max</th>\n",
              "      <td>NaN</td>\n",
              "      <td>NaN</td>\n",
              "      <td>3.532204</td>\n",
              "      <td>NaN</td>\n",
              "    </tr>\n",
              "  </tbody>\n",
              "</table>\n",
              "</div>"
            ],
            "text/plain": [
              "       feedback.must_mention error  execution_time  \\\n",
              "count                      5     0        5.000000   \n",
              "unique                     2     0             NaN   \n",
              "top                     True   NaN             NaN   \n",
              "freq                       4   NaN             NaN   \n",
              "mean                     NaN   NaN        2.995911   \n",
              "std                      NaN   NaN        0.512701   \n",
              "min                      NaN   NaN        2.354585   \n",
              "25%                      NaN   NaN        2.548716   \n",
              "50%                      NaN   NaN        3.265696   \n",
              "75%                      NaN   NaN        3.278355   \n",
              "max                      NaN   NaN        3.532204   \n",
              "\n",
              "                                      run_id  \n",
              "count                                      5  \n",
              "unique                                     5  \n",
              "top     315441fd-b80d-457a-9e79-2e6aa8bcf90f  \n",
              "freq                                       1  \n",
              "mean                                     NaN  \n",
              "std                                      NaN  \n",
              "min                                      NaN  \n",
              "25%                                      NaN  \n",
              "50%                                      NaN  \n",
              "75%                                      NaN  \n",
              "max                                      NaN  "
            ]
          },
          "metadata": {},
          "output_type": "display_data"
        },
        {
          "data": {
            "text/plain": [
              "{'project_name': 'RAG Pipeline - Evaluation - 31b9da9e',\n",
              " 'results': {'41e75252-35be-4117-9c8d-67ac307fefa2': {'input': {'question': 'What are the two most common copywriting framework?'},\n",
              "   'feedback': [EvaluationResult(key='must_mention', score=True, value=None, comment=None, correction=None, evaluator_info={}, feedback_config=None, source_run_id=UUID('5afedabb-ea42-4ef4-9f4e-26a5c0fb2363'), target_run_id=None)],\n",
              "   'execution_time': 2.354585,\n",
              "   'run_id': '315441fd-b80d-457a-9e79-2e6aa8bcf90f',\n",
              "   'output': \"The two most common copywriting frameworks are:\\n\\n1. **AIDA (Attention, Interest, Desire, Action)**:\\n   - **Attention**: Grab the reader's attention.\\n   - **Interest**: Generate interest by highlighting benefits or unique features.\\n   - **Desire**: Create a desire for the product or service by addressing needs or solving problems.\\n   - **Action**: Encourage the reader to take a specific action, such as making a purchase or signing up.\\n\\n2. **PAS (Problem, Agitate, Solution)**:\\n   - **Problem**: Identify and state the problem that the reader is facing.\\n   - **Agitate**: Agitate the problem by emphasizing the pain points and consequences of not solving it.\\n   - **Solution**: Present the solution, which is typically the product or service being offered.\\n\\nThese frameworks are widely used because they effectively guide the reader through a persuasive process, ultimately leading to a desired action.\",\n",
              "   'reference': {'must_mention': ['PAS', 'AIDA']}},\n",
              "  '80217d6f-fc63-4ab2-9771-f56f658dceeb': {'input': {'question': \"Who wrote 'At 60 miles an hour, the loudest noise in this new Rolls-Royce comes from the electric clock'?\"},\n",
              "   'feedback': [EvaluationResult(key='must_mention', score=True, value=None, comment=None, correction=None, evaluator_info={}, feedback_config=None, source_run_id=UUID('fbd93c67-ac6e-45f6-a1b9-a999ac894c1d'), target_run_id=None)],\n",
              "   'execution_time': 2.548716,\n",
              "   'run_id': '3b2d04a1-007d-4212-a0b0-42a753776232',\n",
              "   'output': 'The famous advertisement line \"At 60 miles an hour, the loudest noise in this new Rolls-Royce comes from the electric clock\" was written by David Ogilvy, a renowned advertising executive and founder of the advertising agency Ogilvy & Mather. This line is often cited as one of the greatest examples of effective advertising copy.',\n",
              "   'reference': {'must_mention': ['David', 'Ogilvy']}},\n",
              "  '437bcf43-0dbb-4551-8e83-31905017debf': {'input': {'question': 'Is copywriting the same as content writing?'},\n",
              "   'feedback': [EvaluationResult(key='must_mention', score=False, value=None, comment=None, correction=None, evaluator_info={}, feedback_config=None, source_run_id=UUID('9f0eaa7a-1d6a-4e89-9787-087779e74ec2'), target_run_id=None)],\n",
              "   'execution_time': 3.532204,\n",
              "   'run_id': '767c4869-bd1a-465e-853e-63b1c6f4502e',\n",
              "   'output': 'Copywriting and content writing are related but distinct forms of writing, each serving different purposes and requiring different skill sets.\\n\\n### Copywriting\\n- **Purpose**: The primary goal of copywriting is to persuade the reader to take a specific action, such as making a purchase, signing up for a newsletter, or clicking a link.\\n- **Style**: Copywriting is often concise, compelling, and focused on the benefits of a product or service. It uses persuasive language and strong calls to action.\\n- **Examples**: Advertisements, sales pages, email marketing campaigns, and product descriptions.\\n\\n### Content Writing\\n- **Purpose**: The main objective of content writing is to inform, educate, or entertain the reader. It aims to provide value and build a relationship with the audience.\\n- **Style**: Content writing is usually more detailed and informative. It focuses on delivering valuable information and engaging the reader.\\n- **Examples**: Blog posts, articles, white papers, eBooks, and social media posts.\\n\\n### Key Differences\\n- **Objective**: Copywriting is sales-oriented, while content writing is value-oriented.\\n- **Length**: Copywriting tends to be shorter and more direct, whereas content writing can be longer and more in-depth.\\n- **Tone**: Copywriting often has a more urgent and persuasive tone, while content writing is generally more relaxed and informative.\\n\\nIn summary, while both copywriting and content writing involve creating written material, they serve different purposes and require different approaches.',\n",
              "   'reference': {'must_mention': ['No', 'Different']}},\n",
              "  'bd380ab8-7a86-4b0a-85af-046e259d17ff': {'input': {'question': 'What are the 5 stages of awareness?'},\n",
              "   'feedback': [EvaluationResult(key='must_mention', score=True, value=None, comment=None, correction=None, evaluator_info={}, feedback_config=None, source_run_id=UUID('a0d9801c-e840-47b6-a72e-85f61e1282fb'), target_run_id=None)],\n",
              "   'execution_time': 3.265696,\n",
              "   'run_id': 'fbdb140f-347c-4a55-9fec-245bd9fc5d43',\n",
              "   'output': 'The concept of the \"5 stages of awareness\" is often used in marketing and sales to describe the different levels of awareness a potential customer has about a product or service. These stages help marketers tailor their messages to meet the needs of their audience at each stage. The 5 stages of awareness are:\\n\\n1. **Unaware**: The potential customer is not aware of the problem or need they have, and they are not aware of your product or service.\\n\\n2. **Problem Aware**: The potential customer realizes they have a problem or need but is not aware that there is a solution available.\\n\\n3. **Solution Aware**: The potential customer knows that solutions to their problem exist but is not aware of your specific product or service.\\n\\n4. **Product Aware**: The potential customer knows about your product or service but is not sure if it is the right solution for them.\\n\\n5. **Most Aware**: The potential customer is fully aware of your product or service and is ready to make a purchase decision.\\n\\nUnderstanding these stages helps businesses create more effective marketing strategies by addressing the specific needs and concerns of their audience at each stage of the awareness journey.',\n",
              "   'reference': {'must_mention': ['Unaware',\n",
              "     'Problem Aware',\n",
              "     'Solution Aware',\n",
              "     'Product Aware',\n",
              "     'Most Aware']}},\n",
              "  '1c56f46a-7ba5-4e00-884e-5a61326ebfd4': {'input': {'question': 'What are other terms for customer avatar?'},\n",
              "   'feedback': [EvaluationResult(key='must_mention', score=True, value=None, comment=None, correction=None, evaluator_info={}, feedback_config=None, source_run_id=UUID('cf59989c-1459-43bc-b6eb-792d77af7b2d'), target_run_id=None)],\n",
              "   'execution_time': 3.278355,\n",
              "   'run_id': 'c05b47c3-8feb-491f-ba14-736e3839695d',\n",
              "   'output': 'Other terms for \"customer avatar\" include:\\n\\n1. Buyer Persona\\n2. Marketing Persona\\n3. Customer Profile\\n4. Ideal Customer Profile (ICP)\\n5. Target Customer\\n6. Client Persona\\n7. Audience Persona\\n8. User Persona\\n9. Customer Archetype\\n10. Customer Segment',\n",
              "   'reference': {'must_mention': ['Ideal Customer',\n",
              "     'Buyer Persona',\n",
              "     'Marketing Persona',\n",
              "     'Customer Profile']}}},\n",
              " 'aggregate_metrics': None}"
            ]
          },
          "execution_count": 45,
          "metadata": {},
          "output_type": "execute_result"
        }
      ],
      "source": [
        "client.run_on_dataset(\n",
        "    dataset_name=dataset_name,\n",
        "    llm_or_chain_factory=agent_chain,\n",
        "    evaluation=eval_config,\n",
        "    verbose=True,\n",
        "    project_name=f\"RAG Pipeline - Evaluation - {uuid4().hex[0:8]}\",\n",
        "    project_metadata={\"version\": \"1.0.0\"},\n",
        ")"
      ]
    },
    {
      "cell_type": "markdown",
      "metadata": {},
      "source": [
        "The results above show that no errors were detected. "
      ]
    },
    {
      "cell_type": "markdown",
      "metadata": {
        "id": "jhTNe4kWrplB"
      },
      "source": [
        "## Part 2: LangGraph with Helpfulness:"
      ]
    },
    {
      "cell_type": "markdown",
      "metadata": {
        "id": "w1wKRddbIY_S"
      },
      "source": [
        "### Task 3: Adding Helpfulness Check and \"Loop\" Limits\n",
        "\n",
        "Now that we've done evaluation - let's see if we can add an extra step where we review the content we've generated to confirm if it fully answers the user's query!\n",
        "\n",
        "We're going to make a few key adjustments to account for this:\n",
        "\n",
        "1. We're going to add an artificial limit on how many \"loops\" the agent can go through - this will help us to avoid the potential situation where we never exit the loop.\n",
        "2. We'll add to our existing conditional edge to obtain the behaviour we desire."
      ]
    },
    {
      "cell_type": "markdown",
      "metadata": {
        "id": "npTYJ8ayR5B3"
      },
      "source": [
        "First, let's define our state again - we can check the length of the state object, so we don't need additional state for this."
      ]
    },
    {
      "cell_type": "code",
      "execution_count": 27,
      "metadata": {
        "id": "-LQ84YhyJG0w"
      },
      "outputs": [],
      "source": [
        "class AgentState(TypedDict):\n",
        "  messages: Annotated[list, add_messages]"
      ]
    },
    {
      "cell_type": "markdown",
      "metadata": {
        "id": "sD7EV0HqSQcb"
      },
      "source": [
        "Now we can set our graph up! This process will be almost entirely the same - with the inclusion of one additional node/conditional edge!"
      ]
    },
    {
      "cell_type": "markdown",
      "metadata": {
        "id": "oajBwLkFVi1N"
      },
      "source": [
        "####🏗️ Activity #5:\n",
        "\n",
        "Please write markdown for the following cells to explain what each is doing."
      ]
    },
    {
      "cell_type": "code",
      "execution_count": 28,
      "metadata": {
        "id": "6r6XXA5FJbVf"
      },
      "outputs": [],
      "source": [
        "graph_with_helpfulness_check = StateGraph(AgentState)\n",
        "\n",
        "graph_with_helpfulness_check.add_node(\"agent\", call_model)\n",
        "graph_with_helpfulness_check.add_node(\"action\", tool_node)"
      ]
    },
    {
      "cell_type": "markdown",
      "metadata": {
        "id": "XZ22o2mWVrfp"
      },
      "source": [
        "####  🟢  Activity  #5 Markdown 1:"
      ]
    },
    {
      "cell_type": "markdown",
      "metadata": {},
      "source": [
        "- The variable graph_with_helpfulness_check creates a flowchart (StateGraph) using the AgentState\n",
        "- Then it adds a node/flowchart step called \"agent\" that is connected to the call_model function.\n",
        "When it reaches this step, the graph will run the call_model function\n",
        "- The cell will then create an \"action\" node/flowchart step that is connected to the tool_node. When it reaches this step, the graph will run the tools within the tool_node\n"
      ]
    },
    {
      "cell_type": "code",
      "execution_count": 29,
      "metadata": {
        "id": "HNWHwWxuRiLY"
      },
      "outputs": [],
      "source": [
        "graph_with_helpfulness_check.set_entry_point(\"agent\")"
      ]
    },
    {
      "cell_type": "markdown",
      "metadata": {
        "id": "rsXeF6xlaXOZ"
      },
      "source": [
        "####  🟢  Activity  #5 Markdown 2:\n"
      ]
    },
    {
      "cell_type": "markdown",
      "metadata": {},
      "source": [
        "The graph starts from the \"agent\" node\n"
      ]
    },
    {
      "cell_type": "code",
      "execution_count": 30,
      "metadata": {
        "id": "z_Sq3A9SaV1O"
      },
      "outputs": [],
      "source": [
        "from langchain_core.prompts import PromptTemplate\n",
        "from langchain_core.output_parsers import StrOutputParser\n",
        "\n",
        "def tool_call_or_helpful(state):\n",
        "  last_message = state[\"messages\"][-1]\n",
        "\n",
        "  if last_message.tool_calls:\n",
        "    return \"action\"\n",
        "\n",
        "  initial_query = state[\"messages\"][0]\n",
        "  final_response = state[\"messages\"][-1]\n",
        "\n",
        "  if len(state[\"messages\"]) > 10:\n",
        "    return \"END\"\n",
        "\n",
        "  prompt_template = \"\"\"\\\n",
        "  Given an initial query and a final response, determine if the final response is extremely helpful or not. Please indicate helpfulness with a 'Y' and unhelpfulness as an 'N'.\n",
        "\n",
        "  Initial Query:\n",
        "  {initial_query}\n",
        "\n",
        "  Final Response:\n",
        "  {final_response}\"\"\"\n",
        "\n",
        "  prompt_template = PromptTemplate.from_template(prompt_template)\n",
        "\n",
        "  helpfulness_check_model = ChatOpenAI(model=\"gpt-4\")\n",
        "\n",
        "  helpfulness_chain = prompt_template | helpfulness_check_model | StrOutputParser()\n",
        "\n",
        "  helpfulness_response = helpfulness_chain.invoke({\"initial_query\" : initial_query.content, \"final_response\" : final_response.content})\n",
        "\n",
        "  if \"Y\" in helpfulness_response:\n",
        "    return \"end\"\n",
        "  else:\n",
        "    return \"continue\""
      ]
    },
    {
      "cell_type": "markdown",
      "metadata": {
        "id": "Fz1u9Vf4SHxJ"
      },
      "source": [
        "####🏗️ Activity #4:\n",
        "\n",
        "Please write what is happening in our `tool_call_or_helpful` function!"
      ]
    },
    {
      "cell_type": "markdown",
      "metadata": {
        "id": "6BhnBW2YVsJO"
      },
      "source": [
        "##### YOUR MARKDOWN HERE"
      ]
    },
    {
      "cell_type": "markdown",
      "metadata": {},
      "source": [
        "####  🟢  Activity  #4:\n",
        "\n",
        "1. First, the function checks if tool_calls is triggered. If so, it will return \"action\" which activates action node's tool_node, which in turn will trigger the tools specified within the node based on tool schema. \n",
        "\n",
        "2. It then establishes the positions of the first query and the final output. \n",
        "\n",
        "3. Then it checks the number of state \"messages\". If it's more than 10, the graph will immediately end.\n",
        "\n",
        "4. It then creates a base prompt template which asks the model to determine whether the final response is extremely helpful or not using a Y/N response. \n",
        "\n",
        "5. The base prompt template is then formalized into the PromptTemplate's from_template function.\n",
        "\n",
        "6. The model chosen as the helpfulness checker is gpt-4\n",
        "\n",
        "7. The formal prompt_template, gpt-4, and langchain_core's function to ensure the final output is in string format (StrOutpputParser()) are then chained together. \n",
        "\n",
        "8. Since it is chained, the function can now directly get the content of the initial query and final response and invoke the result.\n",
        "\n",
        "9. If it returned \"Y\" then the function ends since it has achieved its purpose of being useful.\n",
        "Else, it will continue until it generates \"Y\" or the count of messages is more than 10.\n",
        "\n"
      ]
    },
    {
      "cell_type": "code",
      "execution_count": 31,
      "metadata": {
        "id": "aVTKnWMbP_8T"
      },
      "outputs": [],
      "source": [
        "graph_with_helpfulness_check.add_conditional_edges(\n",
        "    \"agent\",\n",
        "    tool_call_or_helpful,\n",
        "    {\n",
        "        \"continue\" : \"agent\",\n",
        "        \"action\" : \"action\",\n",
        "        \"end\" : END\n",
        "    }\n",
        ")"
      ]
    },
    {
      "cell_type": "markdown",
      "metadata": {
        "id": "ZGDLEWOIVtK0"
      },
      "source": [
        "####  🟢  Activity  #5 Markdown 3:"
      ]
    },
    {
      "cell_type": "markdown",
      "metadata": {},
      "source": [
        "- The code above will add conditional_edges on the agent node. \n",
        "- Based on the tool_call_or_helpful, if the result is continue, the edge will loop back to the agent. \n",
        "- If the result is action, then it will move to the action node. \n",
        "- Otherwise, the graph ends. \n",
        "\n"
      ]
    },
    {
      "cell_type": "code",
      "execution_count": 32,
      "metadata": {
        "id": "cbDK2MbuREgU"
      },
      "outputs": [],
      "source": [
        "graph_with_helpfulness_check.add_edge(\"action\", \"agent\")"
      ]
    },
    {
      "cell_type": "markdown",
      "metadata": {
        "id": "rSI8AOaEVvT-"
      },
      "source": [
        "####  🟢  Activity  #5 Markdown 4:\n"
      ]
    },
    {
      "cell_type": "markdown",
      "metadata": {},
      "source": [
        "The code above creates a direct edge from the action node to the agent node, creating an agent-action loop (if conditional_edge permits)"
      ]
    },
    {
      "cell_type": "code",
      "execution_count": 33,
      "metadata": {
        "id": "oQldl8ERQ8lf"
      },
      "outputs": [],
      "source": [
        "agent_with_helpfulness_check = graph_with_helpfulness_check.compile()"
      ]
    },
    {
      "cell_type": "markdown",
      "metadata": {
        "id": "F67FGCMRVwGz"
      },
      "source": [
        "####  🟢  Activity  #5 Markdown 5:"
      ]
    },
    {
      "cell_type": "markdown",
      "metadata": {},
      "source": [
        "The code above creates the agent_with_helpfulness_check variable, which is a new compiled graph/flowchart that includes the tool_call_or_helpful function"
      ]
    },
    {
      "cell_type": "code",
      "execution_count": 51,
      "metadata": {
        "colab": {
          "base_uri": "https://localhost:8080/"
        },
        "id": "B3oo8E-PRK1T",
        "outputId": "22470df4-9aa7-4751-95b6-d30ce71b17db"
      },
      "outputs": [
        {
          "name": "stdout",
          "output_type": "stream",
          "text": [
            "Receiving update from node: 'agent'\n",
            "[AIMessage(content='', additional_kwargs={'tool_calls': [{'id': 'call_C172hOdAoaSS0V9gAP1sPgBu', 'function': {'arguments': '{\"query\": \"LoRA machine learning\"}', 'name': 'duckduckgo_search'}, 'type': 'function'}, {'id': 'call_xSHK3mN2MKZFWQcsMFTTOVPj', 'function': {'arguments': '{\"query\": \"Tim Dettmers\"}', 'name': 'duckduckgo_search'}, 'type': 'function'}, {'id': 'call_FSp78Lf2BU6hCq63tNljrHx4', 'function': {'arguments': '{\"query\": \"Attention in machine learning\"}', 'name': 'duckduckgo_search'}, 'type': 'function'}], 'refusal': None}, response_metadata={'token_usage': {'completion_tokens': 76, 'prompt_tokens': 171, 'total_tokens': 247}, 'model_name': 'gpt-4o-2024-05-13', 'system_fingerprint': 'fp_157b3831f5', 'finish_reason': 'tool_calls', 'logprobs': None}, id='run-ca8ba9a4-3aa9-47d2-b44f-80d26c7a63b2-0', tool_calls=[{'name': 'duckduckgo_search', 'args': {'query': 'LoRA machine learning'}, 'id': 'call_C172hOdAoaSS0V9gAP1sPgBu', 'type': 'tool_call'}, {'name': 'duckduckgo_search', 'args': {'query': 'Tim Dettmers'}, 'id': 'call_xSHK3mN2MKZFWQcsMFTTOVPj', 'type': 'tool_call'}, {'name': 'duckduckgo_search', 'args': {'query': 'Attention in machine learning'}, 'id': 'call_FSp78Lf2BU6hCq63tNljrHx4', 'type': 'tool_call'}], usage_metadata={'input_tokens': 171, 'output_tokens': 76, 'total_tokens': 247})]\n",
            "\n",
            "\n",
            "\n",
            "Receiving update from node: 'action'\n",
            "[ToolMessage(content='Catastrophic forgetting, in simple terms, is when a machine learning model, like a neural network or artificial intelligence system, forgets how to perform a task it previously learned when it\\'s ... Scaling to Larger Models: LoRA facilitates the expansion of AI models without a corresponding increase in computational resources, making the management of growing model sizes more practical. In the context of LoRA, the concept of rank plays a pivotal role in determining the efficiency and effectiveness of the adaptation process. Fine tuning is the process of tailoring a machine learning model to a specific application, which can be vital in achieving consistent and high quality performance. In this article we\\'ll discuss \"Low-Rank Adaptation\" (LoRA), one of the most popular fine tuning strategies. First we\\'ll cover the theory, then we\\'ll use LoRA to fine tune a language model, improving its question answering ... LoRA, which stands for \"Low-Rank Adaptation\", distinguishes itself by training and storing the additional weight changes in a matrix while freezing all the pre-trained model weights. LoRA is ... In this article, we\\'ll explain how LoRA works in plain English. You will gain an understanding of how it\\'s similar and different to full-parameter fine-tuning, what is going on behind the scenes, and the hyperparameters you need to adjust to use it in practice.', name='duckduckgo_search', tool_call_id='call_C172hOdAoaSS0V9gAP1sPgBu'), ToolMessage(content=\"Allen School Ph.D. student Tim Dettmers accepted the grand prize for QLoRA, a novel approach to finetuning pretrained models that significantly reduces the amount of GPU memory required — from over 780GB to less than 48GB — to finetune a 65B parameter model. With QLoRA, the largest publicly available models can be finetuned on a single ... — Tim Dettmers is joining Ai2 as an AI researcher. Dettmers specializes in efficient deep learning at the intersection of machine learning, NLP, and computer systems with a focus on quantization ... Its purpose is to make cutting-edge research by Tim Dettmers, a leading academic expert on quantization and the use of deep learning hardware accelerators, accessible to the general public. QLoRA: One of the core contributions of bitsandbytes towards the democratization of AI. If you have a curiosity about how fancy graphics cards actually work, and why they are so well-suited to AI-type applications, then take a few minutes to read [Tim Dettmers] explain why this is so.… efficient finetuning of quantized LLMs. AUTHORs: Tim Dettmers, Artidoro Pagnoni, Ari Holtzman, Luke Zettlemoyer Authors Info & Claims. NIPS '23: Proceedings of the 37th International Conference on Neural Information Processing Systems. Article No.: 441, Pages 10088 - 10115. Published: 30 May 2024 Publication History.\", name='duckduckgo_search', tool_call_id='call_xSHK3mN2MKZFWQcsMFTTOVPj'), ToolMessage(content='Learn how attention mechanisms in deep learning enable models to focus on relevant information and improve performance in tasks such as machine translation, image captioning, and speech recognition. Understand the steps and components of attention mechanism architecture and see examples of its applications. 1. Introduction. Self-attention, also known as scaled dot-product attention, is a fundamental concept in the field of NLP and deep learning. It plays a pivotal role in tasks such as machine translation, text summarization, and sentiment analysis. Attention mechanism is a fundamental invention in artificial intelligence and machine learning, redefining the capabilities of deep learning models. This mechanism, inspired by the human mental process of selective focus, has emerged as a pillar in a variety of applications, accelerating developments in natural language processing, computer vision, and beyond. They all use transformer architecture with attention mechanisms at their core to solve problems across domains. In the Transformer series, we go over the ingredients that have made Transformers a universal recipe for machine learning. First up, we take a visual dive to understand the attention mechanism: Why transformers and attention took over. There are several types of attention mechanisms, each designed to cater to specific use cases. Here are a few notable ones: 1. Self-Attention Mechanism. Self-attention, also known as intra ...', name='duckduckgo_search', tool_call_id='call_FSp78Lf2BU6hCq63tNljrHx4')]\n",
            "\n",
            "\n",
            "\n",
            "Receiving update from node: 'agent'\n",
            "[AIMessage(content='### LoRA (Low-Rank Adaptation)\\nLoRA, which stands for \"Low-Rank Adaptation,\" is a fine-tuning strategy in machine learning. It distinguishes itself by training and storing additional weight changes in a matrix while freezing all the pre-trained model weights. This approach allows for efficient adaptation of large models without the need for extensive computational resources. LoRA is particularly useful for scaling AI models and fine-tuning them for specific applications, ensuring high-quality performance without a significant increase in computational demands.\\n\\n### Tim Dettmers\\nTim Dettmers is a Ph.D. student at the Allen School and an AI researcher specializing in efficient deep learning, particularly at the intersection of machine learning, natural language processing (NLP), and computer systems. He is known for his work on quantization and the use of deep learning hardware accelerators. One of his notable contributions is QLoRA, a method that significantly reduces the GPU memory required to fine-tune large language models, making it possible to fine-tune a 65 billion parameter model on a single GPU.\\n\\n### Attention in Machine Learning\\nAttention mechanisms are a fundamental concept in deep learning and NLP. They enable models to focus on relevant information, improving performance in tasks such as machine translation, image captioning, and speech recognition. The attention mechanism, inspired by the human mental process of selective focus, has become a cornerstone in various applications, accelerating developments in natural language processing, computer vision, and beyond. \\n\\n#### Types of Attention Mechanisms:\\n1. **Self-Attention (Scaled Dot-Product Attention)**: This is crucial in tasks like machine translation, text summarization, and sentiment analysis. It allows the model to weigh the importance of different words in a sentence.\\n2. **Other Types**: There are several other types of attention mechanisms designed for specific use cases, each contributing to the versatility and effectiveness of deep learning models.\\n\\nThe attention mechanism is a key component of the Transformer architecture, which has revolutionized the field of machine learning by enabling models to handle long-range dependencies and complex tasks more effectively.', additional_kwargs={'refusal': None}, response_metadata={'token_usage': {'completion_tokens': 418, 'prompt_tokens': 1106, 'total_tokens': 1524}, 'model_name': 'gpt-4o-2024-05-13', 'system_fingerprint': 'fp_157b3831f5', 'finish_reason': 'stop', 'logprobs': None}, id='run-d152f072-b031-4fca-bc6c-52ebde413889-0', usage_metadata={'input_tokens': 1106, 'output_tokens': 418, 'total_tokens': 1524})]\n",
            "\n",
            "\n",
            "\n"
          ]
        }
      ],
      "source": [
        "inputs = {\"messages\" : [HumanMessage(content=\"Related to machine learning, what is LoRA? Also, who is Tim Dettmers? Also, what is Attention?\")]}\n",
        "\n",
        "async for chunk in agent_with_helpfulness_check.astream(inputs, stream_mode=\"updates\"):\n",
        "    for node, values in chunk.items():\n",
        "        print(f\"Receiving update from node: '{node}'\")\n",
        "        print(values[\"messages\"])\n",
        "        print(\"\\n\\n\")"
      ]
    },
    {
      "cell_type": "markdown",
      "metadata": {
        "id": "yVmZPs6lnpsM"
      },
      "source": [
        "### Task 4: LangGraph for the \"Patterns\" of GenAI\n",
        "\n",
        "Let's ask our system about the 4 patterns of Generative AI:\n",
        "\n",
        "1. Prompt Engineering\n",
        "2. RAG\n",
        "3. Fine-tuning\n",
        "4. Agents"
      ]
    },
    {
      "cell_type": "code",
      "execution_count": 47,
      "metadata": {
        "id": "ZoLl7GlXoae-"
      },
      "outputs": [],
      "source": [
        "patterns = [\"prompt engineering\", \"RAG\", \"fine-tuning\", \"LLM-based agents\"]"
      ]
    },
    {
      "cell_type": "code",
      "execution_count": 49,
      "metadata": {
        "colab": {
          "base_uri": "https://localhost:8080/"
        },
        "id": "Zkh0YJuCp3Zl",
        "outputId": "0593c6f5-0a1d-41f6-960b-f32d101b3ade"
      },
      "outputs": [
        {
          "name": "stdout",
          "output_type": "stream",
          "text": [
            "Prompt engineering is a concept primarily associated with the field of artificial intelligence, particularly in the context of natural language processing (NLP) and large language models like GPT-3. It involves the design and crafting of prompts (input text) to elicit desired responses from AI models. The goal is to optimize the input to get the most accurate, relevant, or useful output from the model.\n",
            "\n",
            "### Key Aspects of Prompt Engineering:\n",
            "1. **Crafting Effective Prompts**: Designing questions or statements that guide the AI to produce the desired type of response.\n",
            "2. **Iterative Testing**: Continuously refining prompts based on the responses received to improve the quality of the output.\n",
            "3. **Understanding Model Behavior**: Gaining insights into how the model interprets different types of input to better predict and influence its responses.\n",
            "\n",
            "### When Did It Break Onto the Scene?\n",
            "Prompt engineering became more prominent with the advent of large-scale language models like OpenAI's GPT-3, which was released in June 2020. The ability of these models to generate human-like text based on prompts led to a growing interest in how to effectively communicate with them to achieve specific goals. The term \"prompt engineering\" itself started gaining traction around this time as researchers and practitioners began to explore and document best practices for interacting with these advanced AI systems.\n",
            "\n",
            "Would you like more detailed information or recent developments in prompt engineering?\n",
            "\n",
            "\n",
            "\n",
            "Retrieval-Augmented Generation (RAG) was introduced by Facebook AI in 2020. It represents a significant advancement in natural language processing by combining retrieval-based methods with generative models to enhance the accuracy and relevance of generated text.\n",
            "\n",
            "\n",
            "\n",
            "Fine-tuning is a process in machine learning where a pre-trained model is further trained on a new dataset to adapt it to a specific task. This approach leverages the knowledge the model has already acquired during its initial training on a large, general dataset, and refines it to perform well on a more specialized task. Fine-tuning is particularly useful in natural language processing (NLP) and computer vision, where large pre-trained models like BERT, GPT, and ResNet can be adapted to specific applications with relatively small amounts of additional data.\n",
            "\n",
            "### Key Steps in Fine-Tuning:\n",
            "1. **Pre-training**: Train a model on a large, general dataset.\n",
            "2. **Fine-tuning**: Further train the pre-trained model on a smaller, task-specific dataset.\n",
            "\n",
            "### Benefits:\n",
            "- **Efficiency**: Reduces the amount of data and computational resources needed.\n",
            "- **Performance**: Often leads to better performance on the specific task compared to training a model from scratch.\n",
            "\n",
            "### Historical Context:\n",
            "Fine-tuning became particularly prominent with the advent of large pre-trained models in the late 2010s. For instance:\n",
            "- **BERT (2018)**: Introduced by Google, BERT (Bidirectional Encoder Representations from Transformers) demonstrated the power of fine-tuning in NLP tasks.\n",
            "- **GPT (2018)**: OpenAI's Generative Pre-trained Transformer also showcased the effectiveness of fine-tuning for generating human-like text.\n",
            "\n",
            "Would you like more detailed information on the history or specific models related to fine-tuning?\n",
            "\n",
            "\n",
            "\n",
            "LLM-based agents, or Large Language Model-based agents, are systems that leverage large language models (LLMs) to interact with their environment, perceive data, and take actions based on the information they process. These agents use techniques such as LangChain and AutoGPT to function effectively.\n",
            "\n",
            "The concept of LLM-based agents has been explored in various studies and surveys, particularly in the context of software engineering. However, the field is still in its early stages, and there is no unified standard or benchmarking to qualify an LLM solution as an LLM-based agent in its domain.\n",
            "\n",
            "The development and implementation of LLM-based agents involve understanding their principles, code implementation, and the protocols necessary for their effective functioning. The idea of using LLMs in this capacity has gained traction recently, with significant discussions and developments occurring around April 2023.\n",
            "\n",
            "\n",
            "\n"
          ]
        }
      ],
      "source": [
        "for pattern in patterns:\n",
        "  what_is_string = f\"What is {pattern} and when did it break onto the scene??\"\n",
        "  inputs = {\"messages\" : [HumanMessage(content=what_is_string)]}\n",
        "  messages = agent_with_helpfulness_check.invoke(inputs)\n",
        "  print(messages[\"messages\"][-1].content)\n",
        "  print(\"\\n\\n\")"
      ]
    }
  ],
  "metadata": {
    "colab": {
      "provenance": []
    },
    "kernelspec": {
      "display_name": "Python 3",
      "name": "python3"
    },
    "language_info": {
      "codemirror_mode": {
        "name": "ipython",
        "version": 3
      },
      "file_extension": ".py",
      "mimetype": "text/x-python",
      "name": "python",
      "nbconvert_exporter": "python",
      "pygments_lexer": "ipython3",
      "version": "3.11.9"
    }
  },
  "nbformat": 4,
  "nbformat_minor": 0
}
